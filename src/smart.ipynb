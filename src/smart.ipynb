{
 "cells": [
  {
   "cell_type": "code",
   "execution_count": 100,
   "metadata": {},
   "outputs": [],
   "source": [
    "from imports.resources import Session\n",
    "from imports.resources.db_classes import Transformer, Weights, Furfural, Load, Oil_Quality, Dissolved_Gases, Maintenance, Health_Index\n",
    "from imports.resources.Mixins import MixinsTables\n",
    "import pandas as pd\n",
    "import numpy as np\n",
    "import random\n",
    "\n",
    "random.seed(1)\n",
    "\n",
    "session = Session()"
   ]
  },
  {
   "cell_type": "code",
   "execution_count": 101,
   "metadata": {},
   "outputs": [
    {
     "output_type": "execute_result",
     "data": {
      "text/plain": [
       "['SE6', 'SE8', 'SE9', 'SE2', 'SE3_TP3', 'SE3_TP4', 'SE5', 'SE4', 'SE1', 'SE7']"
      ]
     },
     "metadata": {},
     "execution_count": 101
    }
   ],
   "source": [
    "trs = Transformer()\n",
    "trs_list = trs.get_batch(session)\n",
    "transfs=[transf.id_transformer for transf in trs_list]\n",
    "transfs"
   ]
  },
  {
   "cell_type": "code",
   "execution_count": 102,
   "metadata": {},
   "outputs": [
    {
     "output_type": "execute_result",
     "data": {
      "text/plain": [
       "{'Furfural': ['quantity'],\n",
       " 'Load': ['load_factor'],\n",
       " 'Oil_Quality': ['breakdown_voltage',\n",
       "  'water_content',\n",
       "  'acidity',\n",
       "  'color',\n",
       "  'interfacial_tension'],\n",
       " 'Dissolved_Gases': ['h2', 'ch4', 'c2h6', 'c2h4', 'c2h2', 'co', 'coh2'],\n",
       " 'Maintenance': ['impact_index']}"
      ]
     },
     "metadata": {},
     "execution_count": 102
    }
   ],
   "source": [
    "# Criar um dicionário com os nomes das tables relevantes e dos respetivos campos de dados que serão transpostos para o df final\n",
    "tables={}\n",
    "relationships=trs.__mapper__.relationships\n",
    "\n",
    "for relation in relationships:\n",
    "    \n",
    "    classs = relation.entity.class_\n",
    "    name = classs.__name__\n",
    "\n",
    "    if name == 'Weights' or name == 'Health_Index': continue   #Depois incluir o Health Index!!!!!\n",
    "    \n",
    "    attrs = classs.__table__.columns.keys()\n",
    "    attrs.remove(classs.__table__.primary_key.columns.keys()[0])\n",
    "    attrs.remove('datestamp')\n",
    "    attrs.remove('id_transformer')\n",
    "    if name == 'Maintenance': attrs.remove('descript')\n",
    "    if name == 'Health_Index': attrs.remove('id_algorithm')\n",
    "    if name == 'Load': attrs.remove('power_factor')\n",
    "\n",
    "    tables[name] = attrs\n",
    "\n",
    "tables"
   ]
  },
  {
   "cell_type": "code",
   "execution_count": 103,
   "metadata": {},
   "outputs": [],
   "source": [
    "minyear, maxyear = 1990, 2020\n",
    "rawdf={}\n",
    "\n",
    "for trs_id in transfs:\n",
    "\n",
    "    trs=Transformer(id_transformer=trs_id)\n",
    "\n",
    "    # Inicializar dicionário pré-dataframe\n",
    "    predf={}\n",
    "\n",
    "    # inicializar vetores que vão constar no dicionário\n",
    "    predf['year']=[]\n",
    "    for table, attrs in tables.items():\n",
    "        for attr in attrs:\n",
    "            predf[attr]=[]\n",
    "\n",
    "    for year in range(minyear, maxyear+1):\n",
    "        predf['year'].append(year)\n",
    "        dict_queries = trs.get_by_time_interval(session, mindate=str(year)+'-01-01', maxdate=str(year)+'-12-31')\n",
    "        \n",
    "        for table, attrs in tables.items():\n",
    "            query = dict_queries[table]\n",
    "            \n",
    "            for attr in attrs:\n",
    "                values = [getattr(measure,attr) for measure in query]\n",
    "                if values:\n",
    "                    predf[attr].append(np.mean(values))\n",
    "                else:\n",
    "                    predf[attr].append(np.nan)\n",
    "\n",
    "    rawdf[trs_id] = pd.DataFrame(data=predf)"
   ]
  },
  {
   "cell_type": "code",
   "execution_count": 104,
   "metadata": {},
   "outputs": [
    {
     "output_type": "execute_result",
     "data": {
      "text/plain": [
       "   year  quantity  load_factor  breakdown_voltage  water_content  acidity  \\\n",
       "0  1990       NaN          NaN                NaN            NaN      NaN   \n",
       "1  1991       NaN          NaN                NaN            NaN      NaN   \n",
       "2  1992       NaN          NaN                NaN            NaN      NaN   \n",
       "3  1993       NaN          NaN                NaN            NaN      NaN   \n",
       "4  1994       NaN          NaN               89.4            7.8    0.044   \n",
       "5  1995       NaN          NaN                NaN            NaN      NaN   \n",
       "6  1996       NaN          NaN               46.6            9.2    0.100   \n",
       "7  1997       NaN          NaN               85.2           18.2    0.068   \n",
       "8  1998      0.00          NaN               89.1           12.9    0.060   \n",
       "9  1999      0.02          NaN               70.4           14.5    0.068   \n",
       "\n",
       "   color  interfacial_tension    h2  ch4  c2h6  c2h4  c2h2     co   coh2  \\\n",
       "0    NaN                  NaN   NaN  NaN   NaN   NaN   NaN    NaN    NaN   \n",
       "1    NaN                  NaN   NaN  NaN   NaN   NaN   NaN    NaN    NaN   \n",
       "2    NaN                  NaN   NaN  NaN   NaN   NaN   NaN    NaN    NaN   \n",
       "3    NaN                  NaN   NaN  NaN   NaN   NaN   NaN    NaN    NaN   \n",
       "4    6.0                 21.9   NaN  NaN   NaN   NaN   NaN    NaN    NaN   \n",
       "5    NaN                  NaN   NaN  NaN   NaN   NaN   NaN    NaN    NaN   \n",
       "6    5.5                 20.7  15.0  3.0  13.0  17.0   3.0  157.0   3.60   \n",
       "7    5.5                 20.8  13.0  5.0  15.0  20.0   6.0  288.0   6.00   \n",
       "8    5.5                 20.9  21.2  8.2  16.7  27.1  13.4  455.4   9.40   \n",
       "9    6.0                 21.7  21.0  8.9  24.0  32.0  13.0  499.0  11.26   \n",
       "\n",
       "   impact_index  \n",
       "0           NaN  \n",
       "1           NaN  \n",
       "2           NaN  \n",
       "3           NaN  \n",
       "4           NaN  \n",
       "5           NaN  \n",
       "6           NaN  \n",
       "7           NaN  \n",
       "8           NaN  \n",
       "9           NaN  "
      ],
      "text/html": "<div>\n<style scoped>\n    .dataframe tbody tr th:only-of-type {\n        vertical-align: middle;\n    }\n\n    .dataframe tbody tr th {\n        vertical-align: top;\n    }\n\n    .dataframe thead th {\n        text-align: right;\n    }\n</style>\n<table border=\"1\" class=\"dataframe\">\n  <thead>\n    <tr style=\"text-align: right;\">\n      <th></th>\n      <th>year</th>\n      <th>quantity</th>\n      <th>load_factor</th>\n      <th>breakdown_voltage</th>\n      <th>water_content</th>\n      <th>acidity</th>\n      <th>color</th>\n      <th>interfacial_tension</th>\n      <th>h2</th>\n      <th>ch4</th>\n      <th>c2h6</th>\n      <th>c2h4</th>\n      <th>c2h2</th>\n      <th>co</th>\n      <th>coh2</th>\n      <th>impact_index</th>\n    </tr>\n  </thead>\n  <tbody>\n    <tr>\n      <th>0</th>\n      <td>1990</td>\n      <td>NaN</td>\n      <td>NaN</td>\n      <td>NaN</td>\n      <td>NaN</td>\n      <td>NaN</td>\n      <td>NaN</td>\n      <td>NaN</td>\n      <td>NaN</td>\n      <td>NaN</td>\n      <td>NaN</td>\n      <td>NaN</td>\n      <td>NaN</td>\n      <td>NaN</td>\n      <td>NaN</td>\n      <td>NaN</td>\n    </tr>\n    <tr>\n      <th>1</th>\n      <td>1991</td>\n      <td>NaN</td>\n      <td>NaN</td>\n      <td>NaN</td>\n      <td>NaN</td>\n      <td>NaN</td>\n      <td>NaN</td>\n      <td>NaN</td>\n      <td>NaN</td>\n      <td>NaN</td>\n      <td>NaN</td>\n      <td>NaN</td>\n      <td>NaN</td>\n      <td>NaN</td>\n      <td>NaN</td>\n      <td>NaN</td>\n    </tr>\n    <tr>\n      <th>2</th>\n      <td>1992</td>\n      <td>NaN</td>\n      <td>NaN</td>\n      <td>NaN</td>\n      <td>NaN</td>\n      <td>NaN</td>\n      <td>NaN</td>\n      <td>NaN</td>\n      <td>NaN</td>\n      <td>NaN</td>\n      <td>NaN</td>\n      <td>NaN</td>\n      <td>NaN</td>\n      <td>NaN</td>\n      <td>NaN</td>\n      <td>NaN</td>\n    </tr>\n    <tr>\n      <th>3</th>\n      <td>1993</td>\n      <td>NaN</td>\n      <td>NaN</td>\n      <td>NaN</td>\n      <td>NaN</td>\n      <td>NaN</td>\n      <td>NaN</td>\n      <td>NaN</td>\n      <td>NaN</td>\n      <td>NaN</td>\n      <td>NaN</td>\n      <td>NaN</td>\n      <td>NaN</td>\n      <td>NaN</td>\n      <td>NaN</td>\n      <td>NaN</td>\n    </tr>\n    <tr>\n      <th>4</th>\n      <td>1994</td>\n      <td>NaN</td>\n      <td>NaN</td>\n      <td>89.4</td>\n      <td>7.8</td>\n      <td>0.044</td>\n      <td>6.0</td>\n      <td>21.9</td>\n      <td>NaN</td>\n      <td>NaN</td>\n      <td>NaN</td>\n      <td>NaN</td>\n      <td>NaN</td>\n      <td>NaN</td>\n      <td>NaN</td>\n      <td>NaN</td>\n    </tr>\n    <tr>\n      <th>5</th>\n      <td>1995</td>\n      <td>NaN</td>\n      <td>NaN</td>\n      <td>NaN</td>\n      <td>NaN</td>\n      <td>NaN</td>\n      <td>NaN</td>\n      <td>NaN</td>\n      <td>NaN</td>\n      <td>NaN</td>\n      <td>NaN</td>\n      <td>NaN</td>\n      <td>NaN</td>\n      <td>NaN</td>\n      <td>NaN</td>\n      <td>NaN</td>\n    </tr>\n    <tr>\n      <th>6</th>\n      <td>1996</td>\n      <td>NaN</td>\n      <td>NaN</td>\n      <td>46.6</td>\n      <td>9.2</td>\n      <td>0.100</td>\n      <td>5.5</td>\n      <td>20.7</td>\n      <td>15.0</td>\n      <td>3.0</td>\n      <td>13.0</td>\n      <td>17.0</td>\n      <td>3.0</td>\n      <td>157.0</td>\n      <td>3.60</td>\n      <td>NaN</td>\n    </tr>\n    <tr>\n      <th>7</th>\n      <td>1997</td>\n      <td>NaN</td>\n      <td>NaN</td>\n      <td>85.2</td>\n      <td>18.2</td>\n      <td>0.068</td>\n      <td>5.5</td>\n      <td>20.8</td>\n      <td>13.0</td>\n      <td>5.0</td>\n      <td>15.0</td>\n      <td>20.0</td>\n      <td>6.0</td>\n      <td>288.0</td>\n      <td>6.00</td>\n      <td>NaN</td>\n    </tr>\n    <tr>\n      <th>8</th>\n      <td>1998</td>\n      <td>0.00</td>\n      <td>NaN</td>\n      <td>89.1</td>\n      <td>12.9</td>\n      <td>0.060</td>\n      <td>5.5</td>\n      <td>20.9</td>\n      <td>21.2</td>\n      <td>8.2</td>\n      <td>16.7</td>\n      <td>27.1</td>\n      <td>13.4</td>\n      <td>455.4</td>\n      <td>9.40</td>\n      <td>NaN</td>\n    </tr>\n    <tr>\n      <th>9</th>\n      <td>1999</td>\n      <td>0.02</td>\n      <td>NaN</td>\n      <td>70.4</td>\n      <td>14.5</td>\n      <td>0.068</td>\n      <td>6.0</td>\n      <td>21.7</td>\n      <td>21.0</td>\n      <td>8.9</td>\n      <td>24.0</td>\n      <td>32.0</td>\n      <td>13.0</td>\n      <td>499.0</td>\n      <td>11.26</td>\n      <td>NaN</td>\n    </tr>\n  </tbody>\n</table>\n</div>"
     },
     "metadata": {},
     "execution_count": 104
    }
   ],
   "source": [
    "rawdf[transfs[0]]"
   ]
  },
  {
   "cell_type": "code",
   "execution_count": 105,
   "metadata": {},
   "outputs": [],
   "source": [
    "df = {}\n",
    "for transf in transfs:\n",
    "    df[transf] = rawdf[transf].interpolate(limit_area='inside')                            \\\n",
    "                                .dropna(thresh=2)                                           \\\n",
    "                                .interpolate(limit_area='outside', limit_direction='both')"
   ]
  },
  {
   "cell_type": "code",
   "execution_count": 115,
   "metadata": {},
   "outputs": [
    {
     "output_type": "execute_result",
     "data": {
      "text/plain": [
       "    quantity  load_factor  breakdown_voltage  water_content   acidity  \\\n",
       "6   1.016207    -0.554667          -0.071405       0.939522 -1.149588   \n",
       "7   1.016207    -0.554667          -0.071405      -0.103941 -1.149588   \n",
       "8  -0.198587    -0.554667          -0.180617       0.885316 -1.064496   \n",
       "9  -0.198587    -0.554667          -0.126011       0.654941 -0.979404   \n",
       "10 -0.333564    -0.554667           1.059721      -0.402074 -0.951040   \n",
       "11 -0.603519    -0.554667           0.786690      -0.442728 -1.064496   \n",
       "12 -0.603519    -0.554667          -0.399041      -1.418434 -0.284487   \n",
       "13 -0.738496    -0.554667          -0.867093      -0.009081 -0.015030   \n",
       "14 -0.873473    -0.554667          -0.044102      -0.374971 -0.809220   \n",
       "15  0.206344    -0.554667          -1.163526       0.370360  0.070062   \n",
       "16  0.746253    -0.554667          -1.054314       1.982985  0.240246   \n",
       "17 -0.063610    -0.554667          -2.360959       2.714765 -0.298669   \n",
       "18  0.476299    -0.554667           0.252331      -0.334316 -0.440489   \n",
       "19  0.476299    -0.554667          -1.167427      -0.578243 -0.780856   \n",
       "20  0.476299    -0.554667          -1.112821      -0.131044 -0.553945   \n",
       "21  0.476299    -0.554667          -0.638918      -0.625673 -0.596491   \n",
       "22  0.476299    -0.671486          -0.165015      -1.120302 -0.639037   \n",
       "23  0.476299    -0.643289           0.213327      -0.862824 -0.199395   \n",
       "24  0.476299    -0.729225           0.591669      -0.605346  0.240246   \n",
       "25  0.476299    -0.350569          -1.779795      -0.334316 -0.043394   \n",
       "26  0.476299    -0.137072          -1.779795      -0.334316 -0.043394   \n",
       "27  0.476299    -0.137072          -1.779795      -0.334316 -0.043394   \n",
       "\n",
       "       color  interfacial_tension        h2       ch4      c2h6      c2h4  \\\n",
       "6  -0.828184             0.881829  0.775739  0.746434  0.973050 -0.426213   \n",
       "7  -0.828184             0.881829  0.641676  1.120661  1.329459 -0.383807   \n",
       "8  -0.534669             0.837601  0.641676  1.819219  1.833523 -0.305354   \n",
       "9  -0.681427             0.970287  1.814733  2.368086  2.240848 -0.137848   \n",
       "10 -0.681427             0.749143  0.353439  1.095713  1.517847 -0.139968   \n",
       "11 -0.534669             0.417428  0.517667  0.322309  1.232719 -0.237504   \n",
       "12 -0.534669             0.052541  1.341041  1.079080  1.587431  0.113765   \n",
       "13 -0.534669             0.019369  3.765360  1.769322  1.736784  0.218368   \n",
       "14 -0.681427            -0.644062  0.547831  0.022927  0.779570  0.063584   \n",
       "15 -0.387912            -0.069088  1.831491  0.796331  1.492389  0.004214   \n",
       "16 -0.681427            -0.489261  2.790046  1.058290  1.237811  0.152638   \n",
       "17 -0.387912            -0.157546  1.720888  0.958496  1.176712  0.069945   \n",
       "18 -0.387912            -0.201774  1.171227  0.634165  1.054515  0.091148   \n",
       "19 -0.387912            -0.467147  1.067328  0.546845  0.769387  0.042380   \n",
       "20 -0.387912            -0.268118  0.484151  0.122721  0.402795 -0.095441   \n",
       "21 -0.314533            -0.279175  1.531524  0.621691  0.458802  0.036019   \n",
       "22 -0.241155            -0.290232  2.578896  1.120661  0.514809  0.167480   \n",
       "23 -0.241155            -0.290232  1.911929  1.170558  0.351879  0.108111   \n",
       "24 -0.241155            -0.290232  1.244962  1.220455  0.188950  0.048741   \n",
       "25 -0.241155            -0.290232  0.038389 -0.002022 -0.147093 -0.256587   \n",
       "26 -0.241155            -0.290232  0.038389 -0.002022 -0.147093 -0.256587   \n",
       "27 -0.241155            -0.290232  0.038389 -0.002022 -0.147093 -0.256587   \n",
       "\n",
       "        c2h2        co      coh2  impact_index  \n",
       "6  -0.665289 -0.307459 -0.725551     -0.493668  \n",
       "7  -0.492589 -0.163568 -0.600796     -0.493668  \n",
       "8  -0.380334  0.706971 -0.268116     -0.493668  \n",
       "9   0.224117  1.290808  0.782598     -0.493668  \n",
       "10  0.517708 -0.389476  0.020206     -0.493668  \n",
       "11  0.267292 -0.383001  0.096445     -0.493668  \n",
       "12  2.005809  0.194001  0.562659     -0.493668  \n",
       "13  3.185928  0.924246 -0.007517     -0.493668  \n",
       "14  1.692070 -0.672581 -0.384554      0.317304  \n",
       "15  3.436343  1.450527  1.091713     -0.493668  \n",
       "16  2.426046  2.731874  2.859075      0.317304  \n",
       "17  2.132456  2.045156  3.370570      0.046980  \n",
       "18  2.296521  1.407360  3.310965     -0.493668  \n",
       "19  2.046106  1.568158  2.967196     -0.493668  \n",
       "20  1.683435  0.908778  2.081435      0.587629  \n",
       "21  2.667827  1.718703  1.825688      1.668925  \n",
       "22  3.652219  2.528629  1.569940      2.750221  \n",
       "23  2.365601  2.612445  1.892917      1.128277  \n",
       "24  1.078984  2.696261  2.215893     -0.493668  \n",
       "25 -0.147188  0.750139  0.649526     -0.493668  \n",
       "26 -0.147188  0.750139  0.649526      2.750221  \n",
       "27 -0.147188  0.750139  0.649526     -1.304640  "
      ],
      "text/html": "<div>\n<style scoped>\n    .dataframe tbody tr th:only-of-type {\n        vertical-align: middle;\n    }\n\n    .dataframe tbody tr th {\n        vertical-align: top;\n    }\n\n    .dataframe thead th {\n        text-align: right;\n    }\n</style>\n<table border=\"1\" class=\"dataframe\">\n  <thead>\n    <tr style=\"text-align: right;\">\n      <th></th>\n      <th>quantity</th>\n      <th>load_factor</th>\n      <th>breakdown_voltage</th>\n      <th>water_content</th>\n      <th>acidity</th>\n      <th>color</th>\n      <th>interfacial_tension</th>\n      <th>h2</th>\n      <th>ch4</th>\n      <th>c2h6</th>\n      <th>c2h4</th>\n      <th>c2h2</th>\n      <th>co</th>\n      <th>coh2</th>\n      <th>impact_index</th>\n    </tr>\n  </thead>\n  <tbody>\n    <tr>\n      <th>6</th>\n      <td>1.016207</td>\n      <td>-0.554667</td>\n      <td>-0.071405</td>\n      <td>0.939522</td>\n      <td>-1.149588</td>\n      <td>-0.828184</td>\n      <td>0.881829</td>\n      <td>0.775739</td>\n      <td>0.746434</td>\n      <td>0.973050</td>\n      <td>-0.426213</td>\n      <td>-0.665289</td>\n      <td>-0.307459</td>\n      <td>-0.725551</td>\n      <td>-0.493668</td>\n    </tr>\n    <tr>\n      <th>7</th>\n      <td>1.016207</td>\n      <td>-0.554667</td>\n      <td>-0.071405</td>\n      <td>-0.103941</td>\n      <td>-1.149588</td>\n      <td>-0.828184</td>\n      <td>0.881829</td>\n      <td>0.641676</td>\n      <td>1.120661</td>\n      <td>1.329459</td>\n      <td>-0.383807</td>\n      <td>-0.492589</td>\n      <td>-0.163568</td>\n      <td>-0.600796</td>\n      <td>-0.493668</td>\n    </tr>\n    <tr>\n      <th>8</th>\n      <td>-0.198587</td>\n      <td>-0.554667</td>\n      <td>-0.180617</td>\n      <td>0.885316</td>\n      <td>-1.064496</td>\n      <td>-0.534669</td>\n      <td>0.837601</td>\n      <td>0.641676</td>\n      <td>1.819219</td>\n      <td>1.833523</td>\n      <td>-0.305354</td>\n      <td>-0.380334</td>\n      <td>0.706971</td>\n      <td>-0.268116</td>\n      <td>-0.493668</td>\n    </tr>\n    <tr>\n      <th>9</th>\n      <td>-0.198587</td>\n      <td>-0.554667</td>\n      <td>-0.126011</td>\n      <td>0.654941</td>\n      <td>-0.979404</td>\n      <td>-0.681427</td>\n      <td>0.970287</td>\n      <td>1.814733</td>\n      <td>2.368086</td>\n      <td>2.240848</td>\n      <td>-0.137848</td>\n      <td>0.224117</td>\n      <td>1.290808</td>\n      <td>0.782598</td>\n      <td>-0.493668</td>\n    </tr>\n    <tr>\n      <th>10</th>\n      <td>-0.333564</td>\n      <td>-0.554667</td>\n      <td>1.059721</td>\n      <td>-0.402074</td>\n      <td>-0.951040</td>\n      <td>-0.681427</td>\n      <td>0.749143</td>\n      <td>0.353439</td>\n      <td>1.095713</td>\n      <td>1.517847</td>\n      <td>-0.139968</td>\n      <td>0.517708</td>\n      <td>-0.389476</td>\n      <td>0.020206</td>\n      <td>-0.493668</td>\n    </tr>\n    <tr>\n      <th>11</th>\n      <td>-0.603519</td>\n      <td>-0.554667</td>\n      <td>0.786690</td>\n      <td>-0.442728</td>\n      <td>-1.064496</td>\n      <td>-0.534669</td>\n      <td>0.417428</td>\n      <td>0.517667</td>\n      <td>0.322309</td>\n      <td>1.232719</td>\n      <td>-0.237504</td>\n      <td>0.267292</td>\n      <td>-0.383001</td>\n      <td>0.096445</td>\n      <td>-0.493668</td>\n    </tr>\n    <tr>\n      <th>12</th>\n      <td>-0.603519</td>\n      <td>-0.554667</td>\n      <td>-0.399041</td>\n      <td>-1.418434</td>\n      <td>-0.284487</td>\n      <td>-0.534669</td>\n      <td>0.052541</td>\n      <td>1.341041</td>\n      <td>1.079080</td>\n      <td>1.587431</td>\n      <td>0.113765</td>\n      <td>2.005809</td>\n      <td>0.194001</td>\n      <td>0.562659</td>\n      <td>-0.493668</td>\n    </tr>\n    <tr>\n      <th>13</th>\n      <td>-0.738496</td>\n      <td>-0.554667</td>\n      <td>-0.867093</td>\n      <td>-0.009081</td>\n      <td>-0.015030</td>\n      <td>-0.534669</td>\n      <td>0.019369</td>\n      <td>3.765360</td>\n      <td>1.769322</td>\n      <td>1.736784</td>\n      <td>0.218368</td>\n      <td>3.185928</td>\n      <td>0.924246</td>\n      <td>-0.007517</td>\n      <td>-0.493668</td>\n    </tr>\n    <tr>\n      <th>14</th>\n      <td>-0.873473</td>\n      <td>-0.554667</td>\n      <td>-0.044102</td>\n      <td>-0.374971</td>\n      <td>-0.809220</td>\n      <td>-0.681427</td>\n      <td>-0.644062</td>\n      <td>0.547831</td>\n      <td>0.022927</td>\n      <td>0.779570</td>\n      <td>0.063584</td>\n      <td>1.692070</td>\n      <td>-0.672581</td>\n      <td>-0.384554</td>\n      <td>0.317304</td>\n    </tr>\n    <tr>\n      <th>15</th>\n      <td>0.206344</td>\n      <td>-0.554667</td>\n      <td>-1.163526</td>\n      <td>0.370360</td>\n      <td>0.070062</td>\n      <td>-0.387912</td>\n      <td>-0.069088</td>\n      <td>1.831491</td>\n      <td>0.796331</td>\n      <td>1.492389</td>\n      <td>0.004214</td>\n      <td>3.436343</td>\n      <td>1.450527</td>\n      <td>1.091713</td>\n      <td>-0.493668</td>\n    </tr>\n    <tr>\n      <th>16</th>\n      <td>0.746253</td>\n      <td>-0.554667</td>\n      <td>-1.054314</td>\n      <td>1.982985</td>\n      <td>0.240246</td>\n      <td>-0.681427</td>\n      <td>-0.489261</td>\n      <td>2.790046</td>\n      <td>1.058290</td>\n      <td>1.237811</td>\n      <td>0.152638</td>\n      <td>2.426046</td>\n      <td>2.731874</td>\n      <td>2.859075</td>\n      <td>0.317304</td>\n    </tr>\n    <tr>\n      <th>17</th>\n      <td>-0.063610</td>\n      <td>-0.554667</td>\n      <td>-2.360959</td>\n      <td>2.714765</td>\n      <td>-0.298669</td>\n      <td>-0.387912</td>\n      <td>-0.157546</td>\n      <td>1.720888</td>\n      <td>0.958496</td>\n      <td>1.176712</td>\n      <td>0.069945</td>\n      <td>2.132456</td>\n      <td>2.045156</td>\n      <td>3.370570</td>\n      <td>0.046980</td>\n    </tr>\n    <tr>\n      <th>18</th>\n      <td>0.476299</td>\n      <td>-0.554667</td>\n      <td>0.252331</td>\n      <td>-0.334316</td>\n      <td>-0.440489</td>\n      <td>-0.387912</td>\n      <td>-0.201774</td>\n      <td>1.171227</td>\n      <td>0.634165</td>\n      <td>1.054515</td>\n      <td>0.091148</td>\n      <td>2.296521</td>\n      <td>1.407360</td>\n      <td>3.310965</td>\n      <td>-0.493668</td>\n    </tr>\n    <tr>\n      <th>19</th>\n      <td>0.476299</td>\n      <td>-0.554667</td>\n      <td>-1.167427</td>\n      <td>-0.578243</td>\n      <td>-0.780856</td>\n      <td>-0.387912</td>\n      <td>-0.467147</td>\n      <td>1.067328</td>\n      <td>0.546845</td>\n      <td>0.769387</td>\n      <td>0.042380</td>\n      <td>2.046106</td>\n      <td>1.568158</td>\n      <td>2.967196</td>\n      <td>-0.493668</td>\n    </tr>\n    <tr>\n      <th>20</th>\n      <td>0.476299</td>\n      <td>-0.554667</td>\n      <td>-1.112821</td>\n      <td>-0.131044</td>\n      <td>-0.553945</td>\n      <td>-0.387912</td>\n      <td>-0.268118</td>\n      <td>0.484151</td>\n      <td>0.122721</td>\n      <td>0.402795</td>\n      <td>-0.095441</td>\n      <td>1.683435</td>\n      <td>0.908778</td>\n      <td>2.081435</td>\n      <td>0.587629</td>\n    </tr>\n    <tr>\n      <th>21</th>\n      <td>0.476299</td>\n      <td>-0.554667</td>\n      <td>-0.638918</td>\n      <td>-0.625673</td>\n      <td>-0.596491</td>\n      <td>-0.314533</td>\n      <td>-0.279175</td>\n      <td>1.531524</td>\n      <td>0.621691</td>\n      <td>0.458802</td>\n      <td>0.036019</td>\n      <td>2.667827</td>\n      <td>1.718703</td>\n      <td>1.825688</td>\n      <td>1.668925</td>\n    </tr>\n    <tr>\n      <th>22</th>\n      <td>0.476299</td>\n      <td>-0.671486</td>\n      <td>-0.165015</td>\n      <td>-1.120302</td>\n      <td>-0.639037</td>\n      <td>-0.241155</td>\n      <td>-0.290232</td>\n      <td>2.578896</td>\n      <td>1.120661</td>\n      <td>0.514809</td>\n      <td>0.167480</td>\n      <td>3.652219</td>\n      <td>2.528629</td>\n      <td>1.569940</td>\n      <td>2.750221</td>\n    </tr>\n    <tr>\n      <th>23</th>\n      <td>0.476299</td>\n      <td>-0.643289</td>\n      <td>0.213327</td>\n      <td>-0.862824</td>\n      <td>-0.199395</td>\n      <td>-0.241155</td>\n      <td>-0.290232</td>\n      <td>1.911929</td>\n      <td>1.170558</td>\n      <td>0.351879</td>\n      <td>0.108111</td>\n      <td>2.365601</td>\n      <td>2.612445</td>\n      <td>1.892917</td>\n      <td>1.128277</td>\n    </tr>\n    <tr>\n      <th>24</th>\n      <td>0.476299</td>\n      <td>-0.729225</td>\n      <td>0.591669</td>\n      <td>-0.605346</td>\n      <td>0.240246</td>\n      <td>-0.241155</td>\n      <td>-0.290232</td>\n      <td>1.244962</td>\n      <td>1.220455</td>\n      <td>0.188950</td>\n      <td>0.048741</td>\n      <td>1.078984</td>\n      <td>2.696261</td>\n      <td>2.215893</td>\n      <td>-0.493668</td>\n    </tr>\n    <tr>\n      <th>25</th>\n      <td>0.476299</td>\n      <td>-0.350569</td>\n      <td>-1.779795</td>\n      <td>-0.334316</td>\n      <td>-0.043394</td>\n      <td>-0.241155</td>\n      <td>-0.290232</td>\n      <td>0.038389</td>\n      <td>-0.002022</td>\n      <td>-0.147093</td>\n      <td>-0.256587</td>\n      <td>-0.147188</td>\n      <td>0.750139</td>\n      <td>0.649526</td>\n      <td>-0.493668</td>\n    </tr>\n    <tr>\n      <th>26</th>\n      <td>0.476299</td>\n      <td>-0.137072</td>\n      <td>-1.779795</td>\n      <td>-0.334316</td>\n      <td>-0.043394</td>\n      <td>-0.241155</td>\n      <td>-0.290232</td>\n      <td>0.038389</td>\n      <td>-0.002022</td>\n      <td>-0.147093</td>\n      <td>-0.256587</td>\n      <td>-0.147188</td>\n      <td>0.750139</td>\n      <td>0.649526</td>\n      <td>2.750221</td>\n    </tr>\n    <tr>\n      <th>27</th>\n      <td>0.476299</td>\n      <td>-0.137072</td>\n      <td>-1.779795</td>\n      <td>-0.334316</td>\n      <td>-0.043394</td>\n      <td>-0.241155</td>\n      <td>-0.290232</td>\n      <td>0.038389</td>\n      <td>-0.002022</td>\n      <td>-0.147093</td>\n      <td>-0.256587</td>\n      <td>-0.147188</td>\n      <td>0.750139</td>\n      <td>0.649526</td>\n      <td>-1.304640</td>\n    </tr>\n  </tbody>\n</table>\n</div>"
     },
     "metadata": {},
     "execution_count": 115
    }
   ],
   "source": [
    "df[transfs[0]]"
   ]
  },
  {
   "cell_type": "code",
   "execution_count": 107,
   "metadata": {},
   "outputs": [
    {
     "output_type": "display_data",
     "data": {
      "text/plain": "<Figure size 432x288 with 3 Axes>",
      "image/svg+xml": "<?xml version=\"1.0\" encoding=\"utf-8\" standalone=\"no\"?>\n<!DOCTYPE svg PUBLIC \"-//W3C//DTD SVG 1.1//EN\"\n  \"http://www.w3.org/Graphics/SVG/1.1/DTD/svg11.dtd\">\n<!-- Created with matplotlib (https://matplotlib.org/) -->\n<svg height=\"252.024627pt\" version=\"1.1\" viewBox=\"0 0 375.2875 252.024627\" width=\"375.2875pt\" xmlns=\"http://www.w3.org/2000/svg\" xmlns:xlink=\"http://www.w3.org/1999/xlink\">\n <metadata>\n  <rdf:RDF xmlns:cc=\"http://creativecommons.org/ns#\" xmlns:dc=\"http://purl.org/dc/elements/1.1/\" xmlns:rdf=\"http://www.w3.org/1999/02/22-rdf-syntax-ns#\">\n   <cc:Work>\n    <dc:type rdf:resource=\"http://purl.org/dc/dcmitype/StillImage\"/>\n    <dc:date>2021-01-06T05:28:34.505746</dc:date>\n    <dc:format>image/svg+xml</dc:format>\n    <dc:creator>\n     <cc:Agent>\n      <dc:title>Matplotlib v3.3.2, https://matplotlib.org/</dc:title>\n     </cc:Agent>\n    </dc:creator>\n   </cc:Work>\n  </rdf:RDF>\n </metadata>\n <defs>\n  <style type=\"text/css\">*{stroke-linecap:butt;stroke-linejoin:round;}</style>\n </defs>\n <g id=\"figure_1\">\n  <g id=\"patch_1\">\n   <path d=\"M 0 252.024627 \nL 375.2875 252.024627 \nL 375.2875 0 \nL 0 0 \nz\n\" style=\"fill:none;\"/>\n  </g>\n  <g id=\"axes_1\">\n   <g id=\"patch_2\">\n    <path d=\"M 33.2875 64.8 \nL 368.0875 64.8 \nL 368.0875 7.2 \nL 33.2875 7.2 \nz\n\" style=\"fill:#ffffff;\"/>\n   </g>\n   <g id=\"matplotlib.axis_1\">\n    <g id=\"xtick_1\">\n     <g id=\"line2d_1\">\n      <defs>\n       <path d=\"M 0 0 \nL 0 3.5 \n\" id=\"mfc12ce2dad\" style=\"stroke:#000000;stroke-width:0.8;\"/>\n      </defs>\n      <g>\n       <use style=\"stroke:#000000;stroke-width:0.8;\" x=\"73.869318\" xlink:href=\"#mfc12ce2dad\" y=\"64.8\"/>\n      </g>\n     </g>\n    </g>\n    <g id=\"xtick_2\">\n     <g id=\"line2d_2\">\n      <g>\n       <use style=\"stroke:#000000;stroke-width:0.8;\" x=\"137.278409\" xlink:href=\"#mfc12ce2dad\" y=\"64.8\"/>\n      </g>\n     </g>\n    </g>\n    <g id=\"xtick_3\">\n     <g id=\"line2d_3\">\n      <g>\n       <use style=\"stroke:#000000;stroke-width:0.8;\" x=\"200.6875\" xlink:href=\"#mfc12ce2dad\" y=\"64.8\"/>\n      </g>\n     </g>\n    </g>\n    <g id=\"xtick_4\">\n     <g id=\"line2d_4\">\n      <g>\n       <use style=\"stroke:#000000;stroke-width:0.8;\" x=\"264.096591\" xlink:href=\"#mfc12ce2dad\" y=\"64.8\"/>\n      </g>\n     </g>\n    </g>\n    <g id=\"xtick_5\">\n     <g id=\"line2d_5\">\n      <g>\n       <use style=\"stroke:#000000;stroke-width:0.8;\" x=\"327.505682\" xlink:href=\"#mfc12ce2dad\" y=\"64.8\"/>\n      </g>\n     </g>\n    </g>\n   </g>\n   <g id=\"matplotlib.axis_2\">\n    <g id=\"ytick_1\">\n     <g id=\"line2d_6\">\n      <defs>\n       <path d=\"M 0 0 \nL -3.5 0 \n\" id=\"m0e23e2f07d\" style=\"stroke:#000000;stroke-width:0.8;\"/>\n      </defs>\n      <g>\n       <use style=\"stroke:#000000;stroke-width:0.8;\" x=\"33.2875\" xlink:href=\"#m0e23e2f07d\" y=\"47.844156\"/>\n      </g>\n     </g>\n     <g id=\"text_1\">\n      <!-- 20 -->\n      <g transform=\"translate(13.5625 51.643375)scale(0.1 -0.1)\">\n       <defs>\n        <path d=\"M 19.1875 8.296875 \nL 53.609375 8.296875 \nL 53.609375 0 \nL 7.328125 0 \nL 7.328125 8.296875 \nQ 12.9375 14.109375 22.625 23.890625 \nQ 32.328125 33.6875 34.8125 36.53125 \nQ 39.546875 41.84375 41.421875 45.53125 \nQ 43.3125 49.21875 43.3125 52.78125 \nQ 43.3125 58.59375 39.234375 62.25 \nQ 35.15625 65.921875 28.609375 65.921875 \nQ 23.96875 65.921875 18.8125 64.3125 \nQ 13.671875 62.703125 7.8125 59.421875 \nL 7.8125 69.390625 \nQ 13.765625 71.78125 18.9375 73 \nQ 24.125 74.21875 28.421875 74.21875 \nQ 39.75 74.21875 46.484375 68.546875 \nQ 53.21875 62.890625 53.21875 53.421875 \nQ 53.21875 48.921875 51.53125 44.890625 \nQ 49.859375 40.875 45.40625 35.40625 \nQ 44.1875 33.984375 37.640625 27.21875 \nQ 31.109375 20.453125 19.1875 8.296875 \nz\n\" id=\"DejaVuSans-50\"/>\n        <path d=\"M 31.78125 66.40625 \nQ 24.171875 66.40625 20.328125 58.90625 \nQ 16.5 51.421875 16.5 36.375 \nQ 16.5 21.390625 20.328125 13.890625 \nQ 24.171875 6.390625 31.78125 6.390625 \nQ 39.453125 6.390625 43.28125 13.890625 \nQ 47.125 21.390625 47.125 36.375 \nQ 47.125 51.421875 43.28125 58.90625 \nQ 39.453125 66.40625 31.78125 66.40625 \nz\nM 31.78125 74.21875 \nQ 44.046875 74.21875 50.515625 64.515625 \nQ 56.984375 54.828125 56.984375 36.375 \nQ 56.984375 17.96875 50.515625 8.265625 \nQ 44.046875 -1.421875 31.78125 -1.421875 \nQ 19.53125 -1.421875 13.0625 8.265625 \nQ 6.59375 17.96875 6.59375 36.375 \nQ 6.59375 54.828125 13.0625 64.515625 \nQ 19.53125 74.21875 31.78125 74.21875 \nz\n\" id=\"DejaVuSans-48\"/>\n       </defs>\n       <use xlink:href=\"#DejaVuSans-50\"/>\n       <use x=\"63.623047\" xlink:href=\"#DejaVuSans-48\"/>\n      </g>\n     </g>\n    </g>\n    <g id=\"ytick_2\">\n     <g id=\"line2d_7\">\n      <g>\n       <use style=\"stroke:#000000;stroke-width:0.8;\" x=\"33.2875\" xlink:href=\"#m0e23e2f07d\" y=\"16.675325\"/>\n      </g>\n     </g>\n     <g id=\"text_2\">\n      <!-- 25 -->\n      <g transform=\"translate(13.5625 20.474543)scale(0.1 -0.1)\">\n       <defs>\n        <path d=\"M 10.796875 72.90625 \nL 49.515625 72.90625 \nL 49.515625 64.59375 \nL 19.828125 64.59375 \nL 19.828125 46.734375 \nQ 21.96875 47.46875 24.109375 47.828125 \nQ 26.265625 48.1875 28.421875 48.1875 \nQ 40.625 48.1875 47.75 41.5 \nQ 54.890625 34.8125 54.890625 23.390625 \nQ 54.890625 11.625 47.5625 5.09375 \nQ 40.234375 -1.421875 26.90625 -1.421875 \nQ 22.3125 -1.421875 17.546875 -0.640625 \nQ 12.796875 0.140625 7.71875 1.703125 \nL 7.71875 11.625 \nQ 12.109375 9.234375 16.796875 8.0625 \nQ 21.484375 6.890625 26.703125 6.890625 \nQ 35.15625 6.890625 40.078125 11.328125 \nQ 45.015625 15.765625 45.015625 23.390625 \nQ 45.015625 31 40.078125 35.4375 \nQ 35.15625 39.890625 26.703125 39.890625 \nQ 22.75 39.890625 18.8125 39.015625 \nQ 14.890625 38.140625 10.796875 36.28125 \nz\n\" id=\"DejaVuSans-53\"/>\n       </defs>\n       <use xlink:href=\"#DejaVuSans-50\"/>\n       <use x=\"63.623047\" xlink:href=\"#DejaVuSans-53\"/>\n      </g>\n     </g>\n    </g>\n   </g>\n   <g id=\"line2d_8\">\n    <path clip-path=\"url(#pce60d706e3)\" d=\"M 48.505682 9.818182 \nL 61.1875 15.220779 \nL 73.869318 20.623377 \nL 86.551136 26.025974 \nL 99.232955 23.532468 \nL 111.914773 35.376623 \nL 124.596591 37.87013 \nL 137.278409 40.363636 \nL 149.960227 34.753247 \nL 162.642045 49.090909 \nL 175.323864 53.454545 \nL 188.005682 55.324675 \nL 200.6875 57.818182 \nL 213.369318 60.935065 \nL 226.051136 61.558442 \nL 238.732955 57.818182 \nL 251.414773 62.181818 \nL 264.096591 60.935065 \nL 276.778409 60.935065 \nL 289.460227 60.935065 \nL 302.142045 60.935065 \nL 314.823864 60.935065 \nL 327.505682 60.935065 \nL 340.1875 60.311688 \nL 352.869318 60.311688 \n\" style=\"fill:none;stroke:#1f77b4;stroke-linecap:square;stroke-width:1.5;\"/>\n   </g>\n   <g id=\"patch_3\">\n    <path d=\"M 33.2875 64.8 \nL 33.2875 7.2 \n\" style=\"fill:none;stroke:#000000;stroke-linecap:square;stroke-linejoin:miter;stroke-width:0.8;\"/>\n   </g>\n   <g id=\"patch_4\">\n    <path d=\"M 368.0875 64.8 \nL 368.0875 7.2 \n\" style=\"fill:none;stroke:#000000;stroke-linecap:square;stroke-linejoin:miter;stroke-width:0.8;\"/>\n   </g>\n   <g id=\"patch_5\">\n    <path d=\"M 33.2875 64.8 \nL 368.0875 64.8 \n\" style=\"fill:none;stroke:#000000;stroke-linecap:square;stroke-linejoin:miter;stroke-width:0.8;\"/>\n   </g>\n   <g id=\"patch_6\">\n    <path d=\"M 33.2875 7.2 \nL 368.0875 7.2 \n\" style=\"fill:none;stroke:#000000;stroke-linecap:square;stroke-linejoin:miter;stroke-width:0.8;\"/>\n   </g>\n   <g id=\"legend_1\">\n    <g id=\"patch_7\">\n     <path d=\"M 237.101562 30.15625 \nL 361.0875 30.15625 \nQ 363.0875 30.15625 363.0875 28.15625 \nL 363.0875 14.2 \nQ 363.0875 12.2 361.0875 12.2 \nL 237.101562 12.2 \nQ 235.101562 12.2 235.101562 14.2 \nL 235.101562 28.15625 \nQ 235.101562 30.15625 237.101562 30.15625 \nz\n\" style=\"fill:#ffffff;opacity:0.8;stroke:#cccccc;stroke-linejoin:miter;\"/>\n    </g>\n    <g id=\"line2d_9\">\n     <path d=\"M 239.101562 20.298438 \nL 259.101562 20.298438 \n\" style=\"fill:none;stroke:#1f77b4;stroke-linecap:square;stroke-width:1.5;\"/>\n    </g>\n    <g id=\"line2d_10\"/>\n    <g id=\"text_3\">\n     <!-- interfacial_tension -->\n     <g transform=\"translate(267.101562 23.798438)scale(0.1 -0.1)\">\n      <defs>\n       <path d=\"M 9.421875 54.6875 \nL 18.40625 54.6875 \nL 18.40625 0 \nL 9.421875 0 \nz\nM 9.421875 75.984375 \nL 18.40625 75.984375 \nL 18.40625 64.59375 \nL 9.421875 64.59375 \nz\n\" id=\"DejaVuSans-105\"/>\n       <path d=\"M 54.890625 33.015625 \nL 54.890625 0 \nL 45.90625 0 \nL 45.90625 32.71875 \nQ 45.90625 40.484375 42.875 44.328125 \nQ 39.84375 48.1875 33.796875 48.1875 \nQ 26.515625 48.1875 22.3125 43.546875 \nQ 18.109375 38.921875 18.109375 30.90625 \nL 18.109375 0 \nL 9.078125 0 \nL 9.078125 54.6875 \nL 18.109375 54.6875 \nL 18.109375 46.1875 \nQ 21.34375 51.125 25.703125 53.5625 \nQ 30.078125 56 35.796875 56 \nQ 45.21875 56 50.046875 50.171875 \nQ 54.890625 44.34375 54.890625 33.015625 \nz\n\" id=\"DejaVuSans-110\"/>\n       <path d=\"M 18.3125 70.21875 \nL 18.3125 54.6875 \nL 36.8125 54.6875 \nL 36.8125 47.703125 \nL 18.3125 47.703125 \nL 18.3125 18.015625 \nQ 18.3125 11.328125 20.140625 9.421875 \nQ 21.96875 7.515625 27.59375 7.515625 \nL 36.8125 7.515625 \nL 36.8125 0 \nL 27.59375 0 \nQ 17.1875 0 13.234375 3.875 \nQ 9.28125 7.765625 9.28125 18.015625 \nL 9.28125 47.703125 \nL 2.6875 47.703125 \nL 2.6875 54.6875 \nL 9.28125 54.6875 \nL 9.28125 70.21875 \nz\n\" id=\"DejaVuSans-116\"/>\n       <path d=\"M 56.203125 29.59375 \nL 56.203125 25.203125 \nL 14.890625 25.203125 \nQ 15.484375 15.921875 20.484375 11.0625 \nQ 25.484375 6.203125 34.421875 6.203125 \nQ 39.59375 6.203125 44.453125 7.46875 \nQ 49.3125 8.734375 54.109375 11.28125 \nL 54.109375 2.78125 \nQ 49.265625 0.734375 44.1875 -0.34375 \nQ 39.109375 -1.421875 33.890625 -1.421875 \nQ 20.796875 -1.421875 13.15625 6.1875 \nQ 5.515625 13.8125 5.515625 26.8125 \nQ 5.515625 40.234375 12.765625 48.109375 \nQ 20.015625 56 32.328125 56 \nQ 43.359375 56 49.78125 48.890625 \nQ 56.203125 41.796875 56.203125 29.59375 \nz\nM 47.21875 32.234375 \nQ 47.125 39.59375 43.09375 43.984375 \nQ 39.0625 48.390625 32.421875 48.390625 \nQ 24.90625 48.390625 20.390625 44.140625 \nQ 15.875 39.890625 15.1875 32.171875 \nz\n\" id=\"DejaVuSans-101\"/>\n       <path d=\"M 41.109375 46.296875 \nQ 39.59375 47.171875 37.8125 47.578125 \nQ 36.03125 48 33.890625 48 \nQ 26.265625 48 22.1875 43.046875 \nQ 18.109375 38.09375 18.109375 28.8125 \nL 18.109375 0 \nL 9.078125 0 \nL 9.078125 54.6875 \nL 18.109375 54.6875 \nL 18.109375 46.1875 \nQ 20.953125 51.171875 25.484375 53.578125 \nQ 30.03125 56 36.53125 56 \nQ 37.453125 56 38.578125 55.875 \nQ 39.703125 55.765625 41.0625 55.515625 \nz\n\" id=\"DejaVuSans-114\"/>\n       <path d=\"M 37.109375 75.984375 \nL 37.109375 68.5 \nL 28.515625 68.5 \nQ 23.6875 68.5 21.796875 66.546875 \nQ 19.921875 64.59375 19.921875 59.515625 \nL 19.921875 54.6875 \nL 34.71875 54.6875 \nL 34.71875 47.703125 \nL 19.921875 47.703125 \nL 19.921875 0 \nL 10.890625 0 \nL 10.890625 47.703125 \nL 2.296875 47.703125 \nL 2.296875 54.6875 \nL 10.890625 54.6875 \nL 10.890625 58.5 \nQ 10.890625 67.625 15.140625 71.796875 \nQ 19.390625 75.984375 28.609375 75.984375 \nz\n\" id=\"DejaVuSans-102\"/>\n       <path d=\"M 34.28125 27.484375 \nQ 23.390625 27.484375 19.1875 25 \nQ 14.984375 22.515625 14.984375 16.5 \nQ 14.984375 11.71875 18.140625 8.90625 \nQ 21.296875 6.109375 26.703125 6.109375 \nQ 34.1875 6.109375 38.703125 11.40625 \nQ 43.21875 16.703125 43.21875 25.484375 \nL 43.21875 27.484375 \nz\nM 52.203125 31.203125 \nL 52.203125 0 \nL 43.21875 0 \nL 43.21875 8.296875 \nQ 40.140625 3.328125 35.546875 0.953125 \nQ 30.953125 -1.421875 24.3125 -1.421875 \nQ 15.921875 -1.421875 10.953125 3.296875 \nQ 6 8.015625 6 15.921875 \nQ 6 25.140625 12.171875 29.828125 \nQ 18.359375 34.515625 30.609375 34.515625 \nL 43.21875 34.515625 \nL 43.21875 35.40625 \nQ 43.21875 41.609375 39.140625 45 \nQ 35.0625 48.390625 27.6875 48.390625 \nQ 23 48.390625 18.546875 47.265625 \nQ 14.109375 46.140625 10.015625 43.890625 \nL 10.015625 52.203125 \nQ 14.9375 54.109375 19.578125 55.046875 \nQ 24.21875 56 28.609375 56 \nQ 40.484375 56 46.34375 49.84375 \nQ 52.203125 43.703125 52.203125 31.203125 \nz\n\" id=\"DejaVuSans-97\"/>\n       <path d=\"M 48.78125 52.59375 \nL 48.78125 44.1875 \nQ 44.96875 46.296875 41.140625 47.34375 \nQ 37.3125 48.390625 33.40625 48.390625 \nQ 24.65625 48.390625 19.8125 42.84375 \nQ 14.984375 37.3125 14.984375 27.296875 \nQ 14.984375 17.28125 19.8125 11.734375 \nQ 24.65625 6.203125 33.40625 6.203125 \nQ 37.3125 6.203125 41.140625 7.25 \nQ 44.96875 8.296875 48.78125 10.40625 \nL 48.78125 2.09375 \nQ 45.015625 0.34375 40.984375 -0.53125 \nQ 36.96875 -1.421875 32.421875 -1.421875 \nQ 20.0625 -1.421875 12.78125 6.34375 \nQ 5.515625 14.109375 5.515625 27.296875 \nQ 5.515625 40.671875 12.859375 48.328125 \nQ 20.21875 56 33.015625 56 \nQ 37.15625 56 41.109375 55.140625 \nQ 45.0625 54.296875 48.78125 52.59375 \nz\n\" id=\"DejaVuSans-99\"/>\n       <path d=\"M 9.421875 75.984375 \nL 18.40625 75.984375 \nL 18.40625 0 \nL 9.421875 0 \nz\n\" id=\"DejaVuSans-108\"/>\n       <path d=\"M 50.984375 -16.609375 \nL 50.984375 -23.578125 \nL -0.984375 -23.578125 \nL -0.984375 -16.609375 \nz\n\" id=\"DejaVuSans-95\"/>\n       <path d=\"M 44.28125 53.078125 \nL 44.28125 44.578125 \nQ 40.484375 46.53125 36.375 47.5 \nQ 32.28125 48.484375 27.875 48.484375 \nQ 21.1875 48.484375 17.84375 46.4375 \nQ 14.5 44.390625 14.5 40.28125 \nQ 14.5 37.15625 16.890625 35.375 \nQ 19.28125 33.59375 26.515625 31.984375 \nL 29.59375 31.296875 \nQ 39.15625 29.25 43.1875 25.515625 \nQ 47.21875 21.78125 47.21875 15.09375 \nQ 47.21875 7.46875 41.1875 3.015625 \nQ 35.15625 -1.421875 24.609375 -1.421875 \nQ 20.21875 -1.421875 15.453125 -0.5625 \nQ 10.6875 0.296875 5.421875 2 \nL 5.421875 11.28125 \nQ 10.40625 8.6875 15.234375 7.390625 \nQ 20.0625 6.109375 24.8125 6.109375 \nQ 31.15625 6.109375 34.5625 8.28125 \nQ 37.984375 10.453125 37.984375 14.40625 \nQ 37.984375 18.0625 35.515625 20.015625 \nQ 33.0625 21.96875 24.703125 23.78125 \nL 21.578125 24.515625 \nQ 13.234375 26.265625 9.515625 29.90625 \nQ 5.8125 33.546875 5.8125 39.890625 \nQ 5.8125 47.609375 11.28125 51.796875 \nQ 16.75 56 26.8125 56 \nQ 31.78125 56 36.171875 55.265625 \nQ 40.578125 54.546875 44.28125 53.078125 \nz\n\" id=\"DejaVuSans-115\"/>\n       <path d=\"M 30.609375 48.390625 \nQ 23.390625 48.390625 19.1875 42.75 \nQ 14.984375 37.109375 14.984375 27.296875 \nQ 14.984375 17.484375 19.15625 11.84375 \nQ 23.34375 6.203125 30.609375 6.203125 \nQ 37.796875 6.203125 41.984375 11.859375 \nQ 46.1875 17.53125 46.1875 27.296875 \nQ 46.1875 37.015625 41.984375 42.703125 \nQ 37.796875 48.390625 30.609375 48.390625 \nz\nM 30.609375 56 \nQ 42.328125 56 49.015625 48.375 \nQ 55.71875 40.765625 55.71875 27.296875 \nQ 55.71875 13.875 49.015625 6.21875 \nQ 42.328125 -1.421875 30.609375 -1.421875 \nQ 18.84375 -1.421875 12.171875 6.21875 \nQ 5.515625 13.875 5.515625 27.296875 \nQ 5.515625 40.765625 12.171875 48.375 \nQ 18.84375 56 30.609375 56 \nz\n\" id=\"DejaVuSans-111\"/>\n      </defs>\n      <use xlink:href=\"#DejaVuSans-105\"/>\n      <use x=\"27.783203\" xlink:href=\"#DejaVuSans-110\"/>\n      <use x=\"91.162109\" xlink:href=\"#DejaVuSans-116\"/>\n      <use x=\"130.371094\" xlink:href=\"#DejaVuSans-101\"/>\n      <use x=\"191.894531\" xlink:href=\"#DejaVuSans-114\"/>\n      <use x=\"233.007812\" xlink:href=\"#DejaVuSans-102\"/>\n      <use x=\"268.212891\" xlink:href=\"#DejaVuSans-97\"/>\n      <use x=\"329.492188\" xlink:href=\"#DejaVuSans-99\"/>\n      <use x=\"384.472656\" xlink:href=\"#DejaVuSans-105\"/>\n      <use x=\"412.255859\" xlink:href=\"#DejaVuSans-97\"/>\n      <use x=\"473.535156\" xlink:href=\"#DejaVuSans-108\"/>\n      <use x=\"501.318359\" xlink:href=\"#DejaVuSans-95\"/>\n      <use x=\"551.318359\" xlink:href=\"#DejaVuSans-116\"/>\n      <use x=\"590.527344\" xlink:href=\"#DejaVuSans-101\"/>\n      <use x=\"652.050781\" xlink:href=\"#DejaVuSans-110\"/>\n      <use x=\"715.429688\" xlink:href=\"#DejaVuSans-115\"/>\n      <use x=\"767.529297\" xlink:href=\"#DejaVuSans-105\"/>\n      <use x=\"795.3125\" xlink:href=\"#DejaVuSans-111\"/>\n      <use x=\"856.494141\" xlink:href=\"#DejaVuSans-110\"/>\n     </g>\n    </g>\n   </g>\n  </g>\n  <g id=\"axes_2\">\n   <g id=\"patch_8\">\n    <path d=\"M 33.2875 133.92 \nL 368.0875 133.92 \nL 368.0875 76.32 \nL 33.2875 76.32 \nz\n\" style=\"fill:#ffffff;\"/>\n   </g>\n   <g id=\"matplotlib.axis_3\">\n    <g id=\"xtick_6\">\n     <g id=\"line2d_11\">\n      <g>\n       <use style=\"stroke:#000000;stroke-width:0.8;\" x=\"73.869318\" xlink:href=\"#mfc12ce2dad\" y=\"133.92\"/>\n      </g>\n     </g>\n    </g>\n    <g id=\"xtick_7\">\n     <g id=\"line2d_12\">\n      <g>\n       <use style=\"stroke:#000000;stroke-width:0.8;\" x=\"137.278409\" xlink:href=\"#mfc12ce2dad\" y=\"133.92\"/>\n      </g>\n     </g>\n    </g>\n    <g id=\"xtick_8\">\n     <g id=\"line2d_13\">\n      <g>\n       <use style=\"stroke:#000000;stroke-width:0.8;\" x=\"200.6875\" xlink:href=\"#mfc12ce2dad\" y=\"133.92\"/>\n      </g>\n     </g>\n    </g>\n    <g id=\"xtick_9\">\n     <g id=\"line2d_14\">\n      <g>\n       <use style=\"stroke:#000000;stroke-width:0.8;\" x=\"264.096591\" xlink:href=\"#mfc12ce2dad\" y=\"133.92\"/>\n      </g>\n     </g>\n    </g>\n    <g id=\"xtick_10\">\n     <g id=\"line2d_15\">\n      <g>\n       <use style=\"stroke:#000000;stroke-width:0.8;\" x=\"327.505682\" xlink:href=\"#mfc12ce2dad\" y=\"133.92\"/>\n      </g>\n     </g>\n    </g>\n   </g>\n   <g id=\"matplotlib.axis_4\">\n    <g id=\"ytick_3\">\n     <g id=\"line2d_16\">\n      <g>\n       <use style=\"stroke:#000000;stroke-width:0.8;\" x=\"33.2875\" xlink:href=\"#m0e23e2f07d\" y=\"128.888747\"/>\n      </g>\n     </g>\n     <g id=\"text_4\">\n      <!-- 50 -->\n      <g transform=\"translate(13.5625 132.687966)scale(0.1 -0.1)\">\n       <use xlink:href=\"#DejaVuSans-53\"/>\n       <use x=\"63.623047\" xlink:href=\"#DejaVuSans-48\"/>\n      </g>\n     </g>\n    </g>\n    <g id=\"ytick_4\">\n     <g id=\"line2d_17\">\n      <g>\n       <use style=\"stroke:#000000;stroke-width:0.8;\" x=\"33.2875\" xlink:href=\"#m0e23e2f07d\" y=\"98.725362\"/>\n      </g>\n     </g>\n     <g id=\"text_5\">\n      <!-- 75 -->\n      <g transform=\"translate(13.5625 102.524581)scale(0.1 -0.1)\">\n       <defs>\n        <path d=\"M 8.203125 72.90625 \nL 55.078125 72.90625 \nL 55.078125 68.703125 \nL 28.609375 0 \nL 18.3125 0 \nL 43.21875 64.59375 \nL 8.203125 64.59375 \nz\n\" id=\"DejaVuSans-55\"/>\n       </defs>\n       <use xlink:href=\"#DejaVuSans-55\"/>\n       <use x=\"63.623047\" xlink:href=\"#DejaVuSans-53\"/>\n      </g>\n     </g>\n    </g>\n   </g>\n   <g id=\"line2d_18\">\n    <path clip-path=\"url(#pb15c814dbd)\" d=\"M 48.505682 87.504583 \nL 61.1875 84.649116 \nL 73.869318 81.793649 \nL 86.551136 78.938182 \nL 99.232955 81.351253 \nL 111.914773 87.021969 \nL 124.596591 98.242748 \nL 137.278409 109.463527 \nL 149.960227 85.212166 \nL 162.642045 104.878693 \nL 175.323864 90.279615 \nL 188.005682 100.293858 \nL 200.6875 119.477771 \nL 213.369318 123.579992 \nL 226.051136 115.254897 \nL 238.732955 131.301818 \nL 251.414773 93.054646 \nL 264.096591 94.743796 \nL 276.778409 87.263276 \nL 289.460227 79.782757 \nL 302.142045 80.687658 \nL 314.823864 81.59256 \nL 327.505682 93.899221 \nL 340.1875 115.616858 \nL 352.869318 115.616858 \n\" style=\"fill:none;stroke:#ff7f0e;stroke-linecap:square;stroke-width:1.5;\"/>\n   </g>\n   <g id=\"patch_9\">\n    <path d=\"M 33.2875 133.92 \nL 33.2875 76.32 \n\" style=\"fill:none;stroke:#000000;stroke-linecap:square;stroke-linejoin:miter;stroke-width:0.8;\"/>\n   </g>\n   <g id=\"patch_10\">\n    <path d=\"M 368.0875 133.92 \nL 368.0875 76.32 \n\" style=\"fill:none;stroke:#000000;stroke-linecap:square;stroke-linejoin:miter;stroke-width:0.8;\"/>\n   </g>\n   <g id=\"patch_11\">\n    <path d=\"M 33.2875 133.92 \nL 368.0875 133.92 \n\" style=\"fill:none;stroke:#000000;stroke-linecap:square;stroke-linejoin:miter;stroke-width:0.8;\"/>\n   </g>\n   <g id=\"patch_12\">\n    <path d=\"M 33.2875 76.32 \nL 368.0875 76.32 \n\" style=\"fill:none;stroke:#000000;stroke-linecap:square;stroke-linejoin:miter;stroke-width:0.8;\"/>\n   </g>\n   <g id=\"legend_2\">\n    <g id=\"patch_13\">\n     <path d=\"M 40.2875 128.92 \nL 169.942188 128.92 \nQ 171.942188 128.92 171.942188 126.92 \nL 171.942188 112.96375 \nQ 171.942188 110.96375 169.942188 110.96375 \nL 40.2875 110.96375 \nQ 38.2875 110.96375 38.2875 112.96375 \nL 38.2875 126.92 \nQ 38.2875 128.92 40.2875 128.92 \nz\n\" style=\"fill:#ffffff;opacity:0.8;stroke:#cccccc;stroke-linejoin:miter;\"/>\n    </g>\n    <g id=\"line2d_19\">\n     <path d=\"M 42.2875 119.062187 \nL 62.2875 119.062187 \n\" style=\"fill:none;stroke:#ff7f0e;stroke-linecap:square;stroke-width:1.5;\"/>\n    </g>\n    <g id=\"line2d_20\"/>\n    <g id=\"text_6\">\n     <!-- breakdown_voltage -->\n     <g transform=\"translate(70.2875 122.562187)scale(0.1 -0.1)\">\n      <defs>\n       <path d=\"M 48.6875 27.296875 \nQ 48.6875 37.203125 44.609375 42.84375 \nQ 40.53125 48.484375 33.40625 48.484375 \nQ 26.265625 48.484375 22.1875 42.84375 \nQ 18.109375 37.203125 18.109375 27.296875 \nQ 18.109375 17.390625 22.1875 11.75 \nQ 26.265625 6.109375 33.40625 6.109375 \nQ 40.53125 6.109375 44.609375 11.75 \nQ 48.6875 17.390625 48.6875 27.296875 \nz\nM 18.109375 46.390625 \nQ 20.953125 51.265625 25.265625 53.625 \nQ 29.59375 56 35.59375 56 \nQ 45.5625 56 51.78125 48.09375 \nQ 58.015625 40.1875 58.015625 27.296875 \nQ 58.015625 14.40625 51.78125 6.484375 \nQ 45.5625 -1.421875 35.59375 -1.421875 \nQ 29.59375 -1.421875 25.265625 0.953125 \nQ 20.953125 3.328125 18.109375 8.203125 \nL 18.109375 0 \nL 9.078125 0 \nL 9.078125 75.984375 \nL 18.109375 75.984375 \nz\n\" id=\"DejaVuSans-98\"/>\n       <path d=\"M 9.078125 75.984375 \nL 18.109375 75.984375 \nL 18.109375 31.109375 \nL 44.921875 54.6875 \nL 56.390625 54.6875 \nL 27.390625 29.109375 \nL 57.625 0 \nL 45.90625 0 \nL 18.109375 26.703125 \nL 18.109375 0 \nL 9.078125 0 \nz\n\" id=\"DejaVuSans-107\"/>\n       <path d=\"M 45.40625 46.390625 \nL 45.40625 75.984375 \nL 54.390625 75.984375 \nL 54.390625 0 \nL 45.40625 0 \nL 45.40625 8.203125 \nQ 42.578125 3.328125 38.25 0.953125 \nQ 33.9375 -1.421875 27.875 -1.421875 \nQ 17.96875 -1.421875 11.734375 6.484375 \nQ 5.515625 14.40625 5.515625 27.296875 \nQ 5.515625 40.1875 11.734375 48.09375 \nQ 17.96875 56 27.875 56 \nQ 33.9375 56 38.25 53.625 \nQ 42.578125 51.265625 45.40625 46.390625 \nz\nM 14.796875 27.296875 \nQ 14.796875 17.390625 18.875 11.75 \nQ 22.953125 6.109375 30.078125 6.109375 \nQ 37.203125 6.109375 41.296875 11.75 \nQ 45.40625 17.390625 45.40625 27.296875 \nQ 45.40625 37.203125 41.296875 42.84375 \nQ 37.203125 48.484375 30.078125 48.484375 \nQ 22.953125 48.484375 18.875 42.84375 \nQ 14.796875 37.203125 14.796875 27.296875 \nz\n\" id=\"DejaVuSans-100\"/>\n       <path d=\"M 4.203125 54.6875 \nL 13.1875 54.6875 \nL 24.421875 12.015625 \nL 35.59375 54.6875 \nL 46.1875 54.6875 \nL 57.421875 12.015625 \nL 68.609375 54.6875 \nL 77.59375 54.6875 \nL 63.28125 0 \nL 52.6875 0 \nL 40.921875 44.828125 \nL 29.109375 0 \nL 18.5 0 \nz\n\" id=\"DejaVuSans-119\"/>\n       <path d=\"M 2.984375 54.6875 \nL 12.5 54.6875 \nL 29.59375 8.796875 \nL 46.6875 54.6875 \nL 56.203125 54.6875 \nL 35.6875 0 \nL 23.484375 0 \nz\n\" id=\"DejaVuSans-118\"/>\n       <path d=\"M 45.40625 27.984375 \nQ 45.40625 37.75 41.375 43.109375 \nQ 37.359375 48.484375 30.078125 48.484375 \nQ 22.859375 48.484375 18.828125 43.109375 \nQ 14.796875 37.75 14.796875 27.984375 \nQ 14.796875 18.265625 18.828125 12.890625 \nQ 22.859375 7.515625 30.078125 7.515625 \nQ 37.359375 7.515625 41.375 12.890625 \nQ 45.40625 18.265625 45.40625 27.984375 \nz\nM 54.390625 6.78125 \nQ 54.390625 -7.171875 48.1875 -13.984375 \nQ 42 -20.796875 29.203125 -20.796875 \nQ 24.46875 -20.796875 20.265625 -20.09375 \nQ 16.0625 -19.390625 12.109375 -17.921875 \nL 12.109375 -9.1875 \nQ 16.0625 -11.328125 19.921875 -12.34375 \nQ 23.78125 -13.375 27.78125 -13.375 \nQ 36.625 -13.375 41.015625 -8.765625 \nQ 45.40625 -4.15625 45.40625 5.171875 \nL 45.40625 9.625 \nQ 42.625 4.78125 38.28125 2.390625 \nQ 33.9375 0 27.875 0 \nQ 17.828125 0 11.671875 7.65625 \nQ 5.515625 15.328125 5.515625 27.984375 \nQ 5.515625 40.671875 11.671875 48.328125 \nQ 17.828125 56 27.875 56 \nQ 33.9375 56 38.28125 53.609375 \nQ 42.625 51.21875 45.40625 46.390625 \nL 45.40625 54.6875 \nL 54.390625 54.6875 \nz\n\" id=\"DejaVuSans-103\"/>\n      </defs>\n      <use xlink:href=\"#DejaVuSans-98\"/>\n      <use x=\"63.476562\" xlink:href=\"#DejaVuSans-114\"/>\n      <use x=\"102.339844\" xlink:href=\"#DejaVuSans-101\"/>\n      <use x=\"163.863281\" xlink:href=\"#DejaVuSans-97\"/>\n      <use x=\"225.142578\" xlink:href=\"#DejaVuSans-107\"/>\n      <use x=\"283.052734\" xlink:href=\"#DejaVuSans-100\"/>\n      <use x=\"346.529297\" xlink:href=\"#DejaVuSans-111\"/>\n      <use x=\"407.710938\" xlink:href=\"#DejaVuSans-119\"/>\n      <use x=\"489.498047\" xlink:href=\"#DejaVuSans-110\"/>\n      <use x=\"552.876953\" xlink:href=\"#DejaVuSans-95\"/>\n      <use x=\"602.876953\" xlink:href=\"#DejaVuSans-118\"/>\n      <use x=\"662.056641\" xlink:href=\"#DejaVuSans-111\"/>\n      <use x=\"723.238281\" xlink:href=\"#DejaVuSans-108\"/>\n      <use x=\"751.021484\" xlink:href=\"#DejaVuSans-116\"/>\n      <use x=\"790.230469\" xlink:href=\"#DejaVuSans-97\"/>\n      <use x=\"851.509766\" xlink:href=\"#DejaVuSans-103\"/>\n      <use x=\"914.986328\" xlink:href=\"#DejaVuSans-101\"/>\n     </g>\n    </g>\n   </g>\n  </g>\n  <g id=\"axes_3\">\n   <g id=\"patch_14\">\n    <path d=\"M 33.2875 203.04 \nL 368.0875 203.04 \nL 368.0875 145.44 \nL 33.2875 145.44 \nz\n\" style=\"fill:#ffffff;\"/>\n   </g>\n   <g id=\"matplotlib.axis_5\">\n    <g id=\"xtick_11\">\n     <g id=\"line2d_21\">\n      <g>\n       <use style=\"stroke:#000000;stroke-width:0.8;\" x=\"73.869318\" xlink:href=\"#mfc12ce2dad\" y=\"203.04\"/>\n      </g>\n     </g>\n     <g id=\"text_7\">\n      <!-- 1995 -->\n      <g transform=\"translate(50.789128 229.34544)rotate(-30)scale(0.1 -0.1)\">\n       <defs>\n        <path d=\"M 12.40625 8.296875 \nL 28.515625 8.296875 \nL 28.515625 63.921875 \nL 10.984375 60.40625 \nL 10.984375 69.390625 \nL 28.421875 72.90625 \nL 38.28125 72.90625 \nL 38.28125 8.296875 \nL 54.390625 8.296875 \nL 54.390625 0 \nL 12.40625 0 \nz\n\" id=\"DejaVuSans-49\"/>\n        <path d=\"M 10.984375 1.515625 \nL 10.984375 10.5 \nQ 14.703125 8.734375 18.5 7.8125 \nQ 22.3125 6.890625 25.984375 6.890625 \nQ 35.75 6.890625 40.890625 13.453125 \nQ 46.046875 20.015625 46.78125 33.40625 \nQ 43.953125 29.203125 39.59375 26.953125 \nQ 35.25 24.703125 29.984375 24.703125 \nQ 19.046875 24.703125 12.671875 31.3125 \nQ 6.296875 37.9375 6.296875 49.421875 \nQ 6.296875 60.640625 12.9375 67.421875 \nQ 19.578125 74.21875 30.609375 74.21875 \nQ 43.265625 74.21875 49.921875 64.515625 \nQ 56.59375 54.828125 56.59375 36.375 \nQ 56.59375 19.140625 48.40625 8.859375 \nQ 40.234375 -1.421875 26.421875 -1.421875 \nQ 22.703125 -1.421875 18.890625 -0.6875 \nQ 15.09375 0.046875 10.984375 1.515625 \nz\nM 30.609375 32.421875 \nQ 37.25 32.421875 41.125 36.953125 \nQ 45.015625 41.5 45.015625 49.421875 \nQ 45.015625 57.28125 41.125 61.84375 \nQ 37.25 66.40625 30.609375 66.40625 \nQ 23.96875 66.40625 20.09375 61.84375 \nQ 16.21875 57.28125 16.21875 49.421875 \nQ 16.21875 41.5 20.09375 36.953125 \nQ 23.96875 32.421875 30.609375 32.421875 \nz\n\" id=\"DejaVuSans-57\"/>\n       </defs>\n       <use xlink:href=\"#DejaVuSans-49\"/>\n       <use x=\"63.623047\" xlink:href=\"#DejaVuSans-57\"/>\n       <use x=\"127.246094\" xlink:href=\"#DejaVuSans-57\"/>\n       <use x=\"190.869141\" xlink:href=\"#DejaVuSans-53\"/>\n      </g>\n     </g>\n    </g>\n    <g id=\"xtick_12\">\n     <g id=\"line2d_22\">\n      <g>\n       <use style=\"stroke:#000000;stroke-width:0.8;\" x=\"137.278409\" xlink:href=\"#mfc12ce2dad\" y=\"203.04\"/>\n      </g>\n     </g>\n     <g id=\"text_8\">\n      <!-- 2000 -->\n      <g transform=\"translate(114.198219 229.34544)rotate(-30)scale(0.1 -0.1)\">\n       <use xlink:href=\"#DejaVuSans-50\"/>\n       <use x=\"63.623047\" xlink:href=\"#DejaVuSans-48\"/>\n       <use x=\"127.246094\" xlink:href=\"#DejaVuSans-48\"/>\n       <use x=\"190.869141\" xlink:href=\"#DejaVuSans-48\"/>\n      </g>\n     </g>\n    </g>\n    <g id=\"xtick_13\">\n     <g id=\"line2d_23\">\n      <g>\n       <use style=\"stroke:#000000;stroke-width:0.8;\" x=\"200.6875\" xlink:href=\"#mfc12ce2dad\" y=\"203.04\"/>\n      </g>\n     </g>\n     <g id=\"text_9\">\n      <!-- 2005 -->\n      <g transform=\"translate(177.60731 229.34544)rotate(-30)scale(0.1 -0.1)\">\n       <use xlink:href=\"#DejaVuSans-50\"/>\n       <use x=\"63.623047\" xlink:href=\"#DejaVuSans-48\"/>\n       <use x=\"127.246094\" xlink:href=\"#DejaVuSans-48\"/>\n       <use x=\"190.869141\" xlink:href=\"#DejaVuSans-53\"/>\n      </g>\n     </g>\n    </g>\n    <g id=\"xtick_14\">\n     <g id=\"line2d_24\">\n      <g>\n       <use style=\"stroke:#000000;stroke-width:0.8;\" x=\"264.096591\" xlink:href=\"#mfc12ce2dad\" y=\"203.04\"/>\n      </g>\n     </g>\n     <g id=\"text_10\">\n      <!-- 2010 -->\n      <g transform=\"translate(241.016401 229.34544)rotate(-30)scale(0.1 -0.1)\">\n       <use xlink:href=\"#DejaVuSans-50\"/>\n       <use x=\"63.623047\" xlink:href=\"#DejaVuSans-48\"/>\n       <use x=\"127.246094\" xlink:href=\"#DejaVuSans-49\"/>\n       <use x=\"190.869141\" xlink:href=\"#DejaVuSans-48\"/>\n      </g>\n     </g>\n    </g>\n    <g id=\"xtick_15\">\n     <g id=\"line2d_25\">\n      <g>\n       <use style=\"stroke:#000000;stroke-width:0.8;\" x=\"327.505682\" xlink:href=\"#mfc12ce2dad\" y=\"203.04\"/>\n      </g>\n     </g>\n     <g id=\"text_11\">\n      <!-- 2015 -->\n      <g transform=\"translate(304.425492 229.34544)rotate(-30)scale(0.1 -0.1)\">\n       <use xlink:href=\"#DejaVuSans-50\"/>\n       <use x=\"63.623047\" xlink:href=\"#DejaVuSans-48\"/>\n       <use x=\"127.246094\" xlink:href=\"#DejaVuSans-49\"/>\n       <use x=\"190.869141\" xlink:href=\"#DejaVuSans-53\"/>\n      </g>\n     </g>\n    </g>\n    <g id=\"text_12\">\n     <!-- year -->\n     <g transform=\"translate(189.532031 242.74494)scale(0.1 -0.1)\">\n      <defs>\n       <path d=\"M 32.171875 -5.078125 \nQ 28.375 -14.84375 24.75 -17.8125 \nQ 21.140625 -20.796875 15.09375 -20.796875 \nL 7.90625 -20.796875 \nL 7.90625 -13.28125 \nL 13.1875 -13.28125 \nQ 16.890625 -13.28125 18.9375 -11.515625 \nQ 21 -9.765625 23.484375 -3.21875 \nL 25.09375 0.875 \nL 2.984375 54.6875 \nL 12.5 54.6875 \nL 29.59375 11.921875 \nL 46.6875 54.6875 \nL 56.203125 54.6875 \nz\n\" id=\"DejaVuSans-121\"/>\n      </defs>\n      <use xlink:href=\"#DejaVuSans-121\"/>\n      <use x=\"59.179688\" xlink:href=\"#DejaVuSans-101\"/>\n      <use x=\"120.703125\" xlink:href=\"#DejaVuSans-97\"/>\n      <use x=\"181.982422\" xlink:href=\"#DejaVuSans-114\"/>\n     </g>\n    </g>\n   </g>\n   <g id=\"matplotlib.axis_6\">\n    <g id=\"ytick_5\">\n     <g id=\"line2d_26\">\n      <g>\n       <use style=\"stroke:#000000;stroke-width:0.8;\" x=\"33.2875\" xlink:href=\"#m0e23e2f07d\" y=\"180.74601\"/>\n      </g>\n     </g>\n     <g id=\"text_13\">\n      <!-- 500 -->\n      <g transform=\"translate(7.2 184.545229)scale(0.1 -0.1)\">\n       <use xlink:href=\"#DejaVuSans-53\"/>\n       <use x=\"63.623047\" xlink:href=\"#DejaVuSans-48\"/>\n       <use x=\"127.246094\" xlink:href=\"#DejaVuSans-48\"/>\n      </g>\n     </g>\n    </g>\n    <g id=\"ytick_6\">\n     <g id=\"line2d_27\">\n      <g>\n       <use style=\"stroke:#000000;stroke-width:0.8;\" x=\"33.2875\" xlink:href=\"#m0e23e2f07d\" y=\"157.543406\"/>\n      </g>\n     </g>\n     <g id=\"text_14\">\n      <!-- 750 -->\n      <g transform=\"translate(7.2 161.342625)scale(0.1 -0.1)\">\n       <use xlink:href=\"#DejaVuSans-55\"/>\n       <use x=\"63.623047\" xlink:href=\"#DejaVuSans-53\"/>\n       <use x=\"127.246094\" xlink:href=\"#DejaVuSans-48\"/>\n      </g>\n     </g>\n    </g>\n   </g>\n   <g id=\"line2d_28\">\n    <path clip-path=\"url(#p663ecceec8)\" d=\"M 48.505682 200.421818 \nL 61.1875 200.421818 \nL 73.869318 200.421818 \nL 86.551136 200.421818 \nL 99.232955 194.853193 \nL 111.914773 185.729929 \nL 124.596591 186.161498 \nL 137.278409 186.593066 \nL 149.960227 194.853193 \nL 162.642045 196.598029 \nL 175.323864 187.669667 \nL 188.005682 190.6396 \nL 200.6875 185.135943 \nL 213.369318 148.058182 \nL 226.051136 183.270453 \nL 238.732955 184.699734 \nL 251.414773 179.539475 \nL 264.096591 186.44457 \nL 276.778409 188.913327 \nL 289.460227 191.382084 \nL 302.142045 189.915679 \nL 314.823864 188.449275 \nL 327.505682 186.129014 \nL 340.1875 200.143387 \nL 352.869318 200.143387 \n\" style=\"fill:none;stroke:#2ca02c;stroke-linecap:square;stroke-width:1.5;\"/>\n   </g>\n   <g id=\"patch_15\">\n    <path d=\"M 33.2875 203.04 \nL 33.2875 145.44 \n\" style=\"fill:none;stroke:#000000;stroke-linecap:square;stroke-linejoin:miter;stroke-width:0.8;\"/>\n   </g>\n   <g id=\"patch_16\">\n    <path d=\"M 368.0875 203.04 \nL 368.0875 145.44 \n\" style=\"fill:none;stroke:#000000;stroke-linecap:square;stroke-linejoin:miter;stroke-width:0.8;\"/>\n   </g>\n   <g id=\"patch_17\">\n    <path d=\"M 33.2875 203.04 \nL 368.0875 203.04 \n\" style=\"fill:none;stroke:#000000;stroke-linecap:square;stroke-linejoin:miter;stroke-width:0.8;\"/>\n   </g>\n   <g id=\"patch_18\">\n    <path d=\"M 33.2875 145.44 \nL 368.0875 145.44 \n\" style=\"fill:none;stroke:#000000;stroke-linecap:square;stroke-linejoin:miter;stroke-width:0.8;\"/>\n   </g>\n   <g id=\"legend_3\">\n    <g id=\"patch_19\">\n     <path d=\"M 317.470313 168.118125 \nL 361.0875 168.118125 \nQ 363.0875 168.118125 363.0875 166.118125 \nL 363.0875 152.44 \nQ 363.0875 150.44 361.0875 150.44 \nL 317.470313 150.44 \nQ 315.470313 150.44 315.470313 152.44 \nL 315.470313 166.118125 \nQ 315.470313 168.118125 317.470313 168.118125 \nz\n\" style=\"fill:#ffffff;opacity:0.8;stroke:#cccccc;stroke-linejoin:miter;\"/>\n    </g>\n    <g id=\"line2d_29\">\n     <path d=\"M 319.470313 158.538437 \nL 339.470313 158.538437 \n\" style=\"fill:none;stroke:#2ca02c;stroke-linecap:square;stroke-width:1.5;\"/>\n    </g>\n    <g id=\"line2d_30\"/>\n    <g id=\"text_15\">\n     <!-- co -->\n     <g transform=\"translate(347.470313 162.038437)scale(0.1 -0.1)\">\n      <use xlink:href=\"#DejaVuSans-99\"/>\n      <use x=\"54.980469\" xlink:href=\"#DejaVuSans-111\"/>\n     </g>\n    </g>\n   </g>\n  </g>\n </g>\n <defs>\n  <clipPath id=\"pce60d706e3\">\n   <rect height=\"57.6\" width=\"334.8\" x=\"33.2875\" y=\"7.2\"/>\n  </clipPath>\n  <clipPath id=\"pb15c814dbd\">\n   <rect height=\"57.6\" width=\"334.8\" x=\"33.2875\" y=\"76.32\"/>\n  </clipPath>\n  <clipPath id=\"p663ecceec8\">\n   <rect height=\"57.6\" width=\"334.8\" x=\"33.2875\" y=\"145.44\"/>\n  </clipPath>\n </defs>\n</svg>\n",
      "image/png": "[encoded data removed]"
     },
     "metadata": {
      "needs_background": "light"
     }
    }
   ],
   "source": [
    "plot_features = df[transfs[6]][['interfacial_tension','breakdown_voltage','co']]\n",
    "plot_features.index = df[transfs[6]]['year']\n",
    "_ = plot_features.plot(subplots=True)"
   ]
  },
  {
   "cell_type": "code",
   "execution_count": 108,
   "metadata": {},
   "outputs": [],
   "source": [
    "# Separating year from data\n",
    "year={}\n",
    "for trs in transfs:\n",
    "    year[trs] = df[trs].pop('year')"
   ]
  },
  {
   "cell_type": "code",
   "execution_count": 109,
   "metadata": {},
   "outputs": [],
   "source": [
    "# Train, Validation, Test split (0.6 / 0.2 / 0.2)\n",
    "# Split is done by transformers\n",
    "\n",
    "nr = len(transfs)\n",
    "train_trs = transfs[:int(nr*0.6)]\n",
    "valid_trs = transfs[int(nr*0.6):int(nr*0.8)]\n",
    "test_trs  = transfs[int(nr*0.8):]"
   ]
  },
  {
   "cell_type": "code",
   "execution_count": 111,
   "metadata": {},
   "outputs": [],
   "source": [
    "# Getting mean and std of training data and normalizing all data\n",
    "train_df = pd.DataFrame()\n",
    "\n",
    "for trs in train_trs:\n",
    "    train_df = train_df.append(df[trs])\n",
    "\n",
    "train_mean = train_df.mean()\n",
    "train_std = train_df.std()\n",
    "\n",
    "for trs in transfs:\n",
    "    df[trs] = (df[trs]- train_mean) / train_std"
   ]
  },
  {
   "cell_type": "code",
   "execution_count": 114,
   "metadata": {},
   "outputs": [
    {
     "output_type": "execute_result",
     "data": {
      "text/plain": [
       "    quantity  load_factor  breakdown_voltage  water_content   acidity  \\\n",
       "6   1.016207    -0.554667          -0.071405       0.939522 -1.149588   \n",
       "7   1.016207    -0.554667          -0.071405      -0.103941 -1.149588   \n",
       "8  -0.198587    -0.554667          -0.180617       0.885316 -1.064496   \n",
       "9  -0.198587    -0.554667          -0.126011       0.654941 -0.979404   \n",
       "10 -0.333564    -0.554667           1.059721      -0.402074 -0.951040   \n",
       "11 -0.603519    -0.554667           0.786690      -0.442728 -1.064496   \n",
       "12 -0.603519    -0.554667          -0.399041      -1.418434 -0.284487   \n",
       "13 -0.738496    -0.554667          -0.867093      -0.009081 -0.015030   \n",
       "14 -0.873473    -0.554667          -0.044102      -0.374971 -0.809220   \n",
       "15  0.206344    -0.554667          -1.163526       0.370360  0.070062   \n",
       "16  0.746253    -0.554667          -1.054314       1.982985  0.240246   \n",
       "17 -0.063610    -0.554667          -2.360959       2.714765 -0.298669   \n",
       "18  0.476299    -0.554667           0.252331      -0.334316 -0.440489   \n",
       "19  0.476299    -0.554667          -1.167427      -0.578243 -0.780856   \n",
       "20  0.476299    -0.554667          -1.112821      -0.131044 -0.553945   \n",
       "21  0.476299    -0.554667          -0.638918      -0.625673 -0.596491   \n",
       "22  0.476299    -0.671486          -0.165015      -1.120302 -0.639037   \n",
       "23  0.476299    -0.643289           0.213327      -0.862824 -0.199395   \n",
       "24  0.476299    -0.729225           0.591669      -0.605346  0.240246   \n",
       "25  0.476299    -0.350569          -1.779795      -0.334316 -0.043394   \n",
       "26  0.476299    -0.137072          -1.779795      -0.334316 -0.043394   \n",
       "27  0.476299    -0.137072          -1.779795      -0.334316 -0.043394   \n",
       "\n",
       "       color  interfacial_tension        h2       ch4      c2h6      c2h4  \\\n",
       "6  -0.828184             0.881829  0.775739  0.746434  0.973050 -0.426213   \n",
       "7  -0.828184             0.881829  0.641676  1.120661  1.329459 -0.383807   \n",
       "8  -0.534669             0.837601  0.641676  1.819219  1.833523 -0.305354   \n",
       "9  -0.681427             0.970287  1.814733  2.368086  2.240848 -0.137848   \n",
       "10 -0.681427             0.749143  0.353439  1.095713  1.517847 -0.139968   \n",
       "11 -0.534669             0.417428  0.517667  0.322309  1.232719 -0.237504   \n",
       "12 -0.534669             0.052541  1.341041  1.079080  1.587431  0.113765   \n",
       "13 -0.534669             0.019369  3.765360  1.769322  1.736784  0.218368   \n",
       "14 -0.681427            -0.644062  0.547831  0.022927  0.779570  0.063584   \n",
       "15 -0.387912            -0.069088  1.831491  0.796331  1.492389  0.004214   \n",
       "16 -0.681427            -0.489261  2.790046  1.058290  1.237811  0.152638   \n",
       "17 -0.387912            -0.157546  1.720888  0.958496  1.176712  0.069945   \n",
       "18 -0.387912            -0.201774  1.171227  0.634165  1.054515  0.091148   \n",
       "19 -0.387912            -0.467147  1.067328  0.546845  0.769387  0.042380   \n",
       "20 -0.387912            -0.268118  0.484151  0.122721  0.402795 -0.095441   \n",
       "21 -0.314533            -0.279175  1.531524  0.621691  0.458802  0.036019   \n",
       "22 -0.241155            -0.290232  2.578896  1.120661  0.514809  0.167480   \n",
       "23 -0.241155            -0.290232  1.911929  1.170558  0.351879  0.108111   \n",
       "24 -0.241155            -0.290232  1.244962  1.220455  0.188950  0.048741   \n",
       "25 -0.241155            -0.290232  0.038389 -0.002022 -0.147093 -0.256587   \n",
       "26 -0.241155            -0.290232  0.038389 -0.002022 -0.147093 -0.256587   \n",
       "27 -0.241155            -0.290232  0.038389 -0.002022 -0.147093 -0.256587   \n",
       "\n",
       "        c2h2        co      coh2  impact_index  \n",
       "6  -0.665289 -0.307459 -0.725551     -0.493668  \n",
       "7  -0.492589 -0.163568 -0.600796     -0.493668  \n",
       "8  -0.380334  0.706971 -0.268116     -0.493668  \n",
       "9   0.224117  1.290808  0.782598     -0.493668  \n",
       "10  0.517708 -0.389476  0.020206     -0.493668  \n",
       "11  0.267292 -0.383001  0.096445     -0.493668  \n",
       "12  2.005809  0.194001  0.562659     -0.493668  \n",
       "13  3.185928  0.924246 -0.007517     -0.493668  \n",
       "14  1.692070 -0.672581 -0.384554      0.317304  \n",
       "15  3.436343  1.450527  1.091713     -0.493668  \n",
       "16  2.426046  2.731874  2.859075      0.317304  \n",
       "17  2.132456  2.045156  3.370570      0.046980  \n",
       "18  2.296521  1.407360  3.310965     -0.493668  \n",
       "19  2.046106  1.568158  2.967196     -0.493668  \n",
       "20  1.683435  0.908778  2.081435      0.587629  \n",
       "21  2.667827  1.718703  1.825688      1.668925  \n",
       "22  3.652219  2.528629  1.569940      2.750221  \n",
       "23  2.365601  2.612445  1.892917      1.128277  \n",
       "24  1.078984  2.696261  2.215893     -0.493668  \n",
       "25 -0.147188  0.750139  0.649526     -0.493668  \n",
       "26 -0.147188  0.750139  0.649526      2.750221  \n",
       "27 -0.147188  0.750139  0.649526     -1.304640  "
      ],
      "text/html": "<div>\n<style scoped>\n    .dataframe tbody tr th:only-of-type {\n        vertical-align: middle;\n    }\n\n    .dataframe tbody tr th {\n        vertical-align: top;\n    }\n\n    .dataframe thead th {\n        text-align: right;\n    }\n</style>\n<table border=\"1\" class=\"dataframe\">\n  <thead>\n    <tr style=\"text-align: right;\">\n      <th></th>\n      <th>quantity</th>\n      <th>load_factor</th>\n      <th>breakdown_voltage</th>\n      <th>water_content</th>\n      <th>acidity</th>\n      <th>color</th>\n      <th>interfacial_tension</th>\n      <th>h2</th>\n      <th>ch4</th>\n      <th>c2h6</th>\n      <th>c2h4</th>\n      <th>c2h2</th>\n      <th>co</th>\n      <th>coh2</th>\n      <th>impact_index</th>\n    </tr>\n  </thead>\n  <tbody>\n    <tr>\n      <th>6</th>\n      <td>1.016207</td>\n      <td>-0.554667</td>\n      <td>-0.071405</td>\n      <td>0.939522</td>\n      <td>-1.149588</td>\n      <td>-0.828184</td>\n      <td>0.881829</td>\n      <td>0.775739</td>\n      <td>0.746434</td>\n      <td>0.973050</td>\n      <td>-0.426213</td>\n      <td>-0.665289</td>\n      <td>-0.307459</td>\n      <td>-0.725551</td>\n      <td>-0.493668</td>\n    </tr>\n    <tr>\n      <th>7</th>\n      <td>1.016207</td>\n      <td>-0.554667</td>\n      <td>-0.071405</td>\n      <td>-0.103941</td>\n      <td>-1.149588</td>\n      <td>-0.828184</td>\n      <td>0.881829</td>\n      <td>0.641676</td>\n      <td>1.120661</td>\n      <td>1.329459</td>\n      <td>-0.383807</td>\n      <td>-0.492589</td>\n      <td>-0.163568</td>\n      <td>-0.600796</td>\n      <td>-0.493668</td>\n    </tr>\n    <tr>\n      <th>8</th>\n      <td>-0.198587</td>\n      <td>-0.554667</td>\n      <td>-0.180617</td>\n      <td>0.885316</td>\n      <td>-1.064496</td>\n      <td>-0.534669</td>\n      <td>0.837601</td>\n      <td>0.641676</td>\n      <td>1.819219</td>\n      <td>1.833523</td>\n      <td>-0.305354</td>\n      <td>-0.380334</td>\n      <td>0.706971</td>\n      <td>-0.268116</td>\n      <td>-0.493668</td>\n    </tr>\n    <tr>\n      <th>9</th>\n      <td>-0.198587</td>\n      <td>-0.554667</td>\n      <td>-0.126011</td>\n      <td>0.654941</td>\n      <td>-0.979404</td>\n      <td>-0.681427</td>\n      <td>0.970287</td>\n      <td>1.814733</td>\n      <td>2.368086</td>\n      <td>2.240848</td>\n      <td>-0.137848</td>\n      <td>0.224117</td>\n      <td>1.290808</td>\n      <td>0.782598</td>\n      <td>-0.493668</td>\n    </tr>\n    <tr>\n      <th>10</th>\n      <td>-0.333564</td>\n      <td>-0.554667</td>\n      <td>1.059721</td>\n      <td>-0.402074</td>\n      <td>-0.951040</td>\n      <td>-0.681427</td>\n      <td>0.749143</td>\n      <td>0.353439</td>\n      <td>1.095713</td>\n      <td>1.517847</td>\n      <td>-0.139968</td>\n      <td>0.517708</td>\n      <td>-0.389476</td>\n      <td>0.020206</td>\n      <td>-0.493668</td>\n    </tr>\n    <tr>\n      <th>11</th>\n      <td>-0.603519</td>\n      <td>-0.554667</td>\n      <td>0.786690</td>\n      <td>-0.442728</td>\n      <td>-1.064496</td>\n      <td>-0.534669</td>\n      <td>0.417428</td>\n      <td>0.517667</td>\n      <td>0.322309</td>\n      <td>1.232719</td>\n      <td>-0.237504</td>\n      <td>0.267292</td>\n      <td>-0.383001</td>\n      <td>0.096445</td>\n      <td>-0.493668</td>\n    </tr>\n    <tr>\n      <th>12</th>\n      <td>-0.603519</td>\n      <td>-0.554667</td>\n      <td>-0.399041</td>\n      <td>-1.418434</td>\n      <td>-0.284487</td>\n      <td>-0.534669</td>\n      <td>0.052541</td>\n      <td>1.341041</td>\n      <td>1.079080</td>\n      <td>1.587431</td>\n      <td>0.113765</td>\n      <td>2.005809</td>\n      <td>0.194001</td>\n      <td>0.562659</td>\n      <td>-0.493668</td>\n    </tr>\n    <tr>\n      <th>13</th>\n      <td>-0.738496</td>\n      <td>-0.554667</td>\n      <td>-0.867093</td>\n      <td>-0.009081</td>\n      <td>-0.015030</td>\n      <td>-0.534669</td>\n      <td>0.019369</td>\n      <td>3.765360</td>\n      <td>1.769322</td>\n      <td>1.736784</td>\n      <td>0.218368</td>\n      <td>3.185928</td>\n      <td>0.924246</td>\n      <td>-0.007517</td>\n      <td>-0.493668</td>\n    </tr>\n    <tr>\n      <th>14</th>\n      <td>-0.873473</td>\n      <td>-0.554667</td>\n      <td>-0.044102</td>\n      <td>-0.374971</td>\n      <td>-0.809220</td>\n      <td>-0.681427</td>\n      <td>-0.644062</td>\n      <td>0.547831</td>\n      <td>0.022927</td>\n      <td>0.779570</td>\n      <td>0.063584</td>\n      <td>1.692070</td>\n      <td>-0.672581</td>\n      <td>-0.384554</td>\n      <td>0.317304</td>\n    </tr>\n    <tr>\n      <th>15</th>\n      <td>0.206344</td>\n      <td>-0.554667</td>\n      <td>-1.163526</td>\n      <td>0.370360</td>\n      <td>0.070062</td>\n      <td>-0.387912</td>\n      <td>-0.069088</td>\n      <td>1.831491</td>\n      <td>0.796331</td>\n      <td>1.492389</td>\n      <td>0.004214</td>\n      <td>3.436343</td>\n      <td>1.450527</td>\n      <td>1.091713</td>\n      <td>-0.493668</td>\n    </tr>\n    <tr>\n      <th>16</th>\n      <td>0.746253</td>\n      <td>-0.554667</td>\n      <td>-1.054314</td>\n      <td>1.982985</td>\n      <td>0.240246</td>\n      <td>-0.681427</td>\n      <td>-0.489261</td>\n      <td>2.790046</td>\n      <td>1.058290</td>\n      <td>1.237811</td>\n      <td>0.152638</td>\n      <td>2.426046</td>\n      <td>2.731874</td>\n      <td>2.859075</td>\n      <td>0.317304</td>\n    </tr>\n    <tr>\n      <th>17</th>\n      <td>-0.063610</td>\n      <td>-0.554667</td>\n      <td>-2.360959</td>\n      <td>2.714765</td>\n      <td>-0.298669</td>\n      <td>-0.387912</td>\n      <td>-0.157546</td>\n      <td>1.720888</td>\n      <td>0.958496</td>\n      <td>1.176712</td>\n      <td>0.069945</td>\n      <td>2.132456</td>\n      <td>2.045156</td>\n      <td>3.370570</td>\n      <td>0.046980</td>\n    </tr>\n    <tr>\n      <th>18</th>\n      <td>0.476299</td>\n      <td>-0.554667</td>\n      <td>0.252331</td>\n      <td>-0.334316</td>\n      <td>-0.440489</td>\n      <td>-0.387912</td>\n      <td>-0.201774</td>\n      <td>1.171227</td>\n      <td>0.634165</td>\n      <td>1.054515</td>\n      <td>0.091148</td>\n      <td>2.296521</td>\n      <td>1.407360</td>\n      <td>3.310965</td>\n      <td>-0.493668</td>\n    </tr>\n    <tr>\n      <th>19</th>\n      <td>0.476299</td>\n      <td>-0.554667</td>\n      <td>-1.167427</td>\n      <td>-0.578243</td>\n      <td>-0.780856</td>\n      <td>-0.387912</td>\n      <td>-0.467147</td>\n      <td>1.067328</td>\n      <td>0.546845</td>\n      <td>0.769387</td>\n      <td>0.042380</td>\n      <td>2.046106</td>\n      <td>1.568158</td>\n      <td>2.967196</td>\n      <td>-0.493668</td>\n    </tr>\n    <tr>\n      <th>20</th>\n      <td>0.476299</td>\n      <td>-0.554667</td>\n      <td>-1.112821</td>\n      <td>-0.131044</td>\n      <td>-0.553945</td>\n      <td>-0.387912</td>\n      <td>-0.268118</td>\n      <td>0.484151</td>\n      <td>0.122721</td>\n      <td>0.402795</td>\n      <td>-0.095441</td>\n      <td>1.683435</td>\n      <td>0.908778</td>\n      <td>2.081435</td>\n      <td>0.587629</td>\n    </tr>\n    <tr>\n      <th>21</th>\n      <td>0.476299</td>\n      <td>-0.554667</td>\n      <td>-0.638918</td>\n      <td>-0.625673</td>\n      <td>-0.596491</td>\n      <td>-0.314533</td>\n      <td>-0.279175</td>\n      <td>1.531524</td>\n      <td>0.621691</td>\n      <td>0.458802</td>\n      <td>0.036019</td>\n      <td>2.667827</td>\n      <td>1.718703</td>\n      <td>1.825688</td>\n      <td>1.668925</td>\n    </tr>\n    <tr>\n      <th>22</th>\n      <td>0.476299</td>\n      <td>-0.671486</td>\n      <td>-0.165015</td>\n      <td>-1.120302</td>\n      <td>-0.639037</td>\n      <td>-0.241155</td>\n      <td>-0.290232</td>\n      <td>2.578896</td>\n      <td>1.120661</td>\n      <td>0.514809</td>\n      <td>0.167480</td>\n      <td>3.652219</td>\n      <td>2.528629</td>\n      <td>1.569940</td>\n      <td>2.750221</td>\n    </tr>\n    <tr>\n      <th>23</th>\n      <td>0.476299</td>\n      <td>-0.643289</td>\n      <td>0.213327</td>\n      <td>-0.862824</td>\n      <td>-0.199395</td>\n      <td>-0.241155</td>\n      <td>-0.290232</td>\n      <td>1.911929</td>\n      <td>1.170558</td>\n      <td>0.351879</td>\n      <td>0.108111</td>\n      <td>2.365601</td>\n      <td>2.612445</td>\n      <td>1.892917</td>\n      <td>1.128277</td>\n    </tr>\n    <tr>\n      <th>24</th>\n      <td>0.476299</td>\n      <td>-0.729225</td>\n      <td>0.591669</td>\n      <td>-0.605346</td>\n      <td>0.240246</td>\n      <td>-0.241155</td>\n      <td>-0.290232</td>\n      <td>1.244962</td>\n      <td>1.220455</td>\n      <td>0.188950</td>\n      <td>0.048741</td>\n      <td>1.078984</td>\n      <td>2.696261</td>\n      <td>2.215893</td>\n      <td>-0.493668</td>\n    </tr>\n    <tr>\n      <th>25</th>\n      <td>0.476299</td>\n      <td>-0.350569</td>\n      <td>-1.779795</td>\n      <td>-0.334316</td>\n      <td>-0.043394</td>\n      <td>-0.241155</td>\n      <td>-0.290232</td>\n      <td>0.038389</td>\n      <td>-0.002022</td>\n      <td>-0.147093</td>\n      <td>-0.256587</td>\n      <td>-0.147188</td>\n      <td>0.750139</td>\n      <td>0.649526</td>\n      <td>-0.493668</td>\n    </tr>\n    <tr>\n      <th>26</th>\n      <td>0.476299</td>\n      <td>-0.137072</td>\n      <td>-1.779795</td>\n      <td>-0.334316</td>\n      <td>-0.043394</td>\n      <td>-0.241155</td>\n      <td>-0.290232</td>\n      <td>0.038389</td>\n      <td>-0.002022</td>\n      <td>-0.147093</td>\n      <td>-0.256587</td>\n      <td>-0.147188</td>\n      <td>0.750139</td>\n      <td>0.649526</td>\n      <td>2.750221</td>\n    </tr>\n    <tr>\n      <th>27</th>\n      <td>0.476299</td>\n      <td>-0.137072</td>\n      <td>-1.779795</td>\n      <td>-0.334316</td>\n      <td>-0.043394</td>\n      <td>-0.241155</td>\n      <td>-0.290232</td>\n      <td>0.038389</td>\n      <td>-0.002022</td>\n      <td>-0.147093</td>\n      <td>-0.256587</td>\n      <td>-0.147188</td>\n      <td>0.750139</td>\n      <td>0.649526</td>\n      <td>-1.304640</td>\n    </tr>\n  </tbody>\n</table>\n</div>"
     },
     "metadata": {},
     "execution_count": 114
    }
   ],
   "source": [
    "df[transfs[0]]"
   ]
  },
  {
   "cell_type": "code",
   "execution_count": 120,
   "metadata": {},
   "outputs": [],
   "source": [
    "class WindowGenerator():\n",
    "    def __init__(self, input_width, label_width, shift,\n",
    "               train_df, val_df, test_df,\n",
    "               label_columns=None):\n",
    "        # Store the raw data.\n",
    "        self.train_df = train_df\n",
    "        self.val_df = val_df\n",
    "        self.test_df = test_df\n",
    "\n",
    "        # Work out the label column indices.\n",
    "        self.label_columns = label_columns\n",
    "        if label_columns is not None:\n",
    "        self.label_columns_indices = {name: i for i, name in\n",
    "                                        enumerate(label_columns)}\n",
    "        self.column_indices = {name: i for i, name in\n",
    "                            enumerate(train_df.columns)}\n",
    "\n",
    "        # Work out the window parameters.\n",
    "        self.input_width = input_width\n",
    "        self.label_width = label_width\n",
    "        self.shift = shift\n",
    "\n",
    "        self.total_window_size = input_width + shift\n",
    "\n",
    "        self.input_slice = slice(0, input_width)\n",
    "        self.input_indices = np.arange(self.total_window_size)[self.input_slice]\n",
    "\n",
    "        self.label_start = self.total_window_size - self.label_width\n",
    "        self.labels_slice = slice(self.label_start, None)\n",
    "        self.label_indices = np.arange(self.total_window_size)[self.labels_slice]\n",
    "\n",
    "    def __repr__(self):\n",
    "        return '\\n'.join([\n",
    "            f'Total window size: {self.total_window_size}',\n",
    "            f'Input indices: {self.input_indices}',\n",
    "            f'Label indices: {self.label_indices}',\n",
    "            f'Label column name(s): {self.label_columns}'])"
   ]
  },
  {
   "cell_type": "code",
   "execution_count": null,
   "metadata": {},
   "outputs": [],
   "source": [
    "def split_window(self, features):\n",
    "  inputs = features[:, self.input_slice, :]\n",
    "  labels = features[:, self.labels_slice, :]\n",
    "  if self.label_columns is not None:\n",
    "    labels = tf.stack(\n",
    "        [labels[:, :, self.column_indices[name]] for name in self.label_columns],\n",
    "        axis=-1)\n",
    "\n",
    "  # Slicing doesn't preserve static shape information, so set the shapes\n",
    "  # manually. This way the `tf.data.Datasets` are easier to inspect.\n",
    "  inputs.set_shape([None, self.input_width, None])\n",
    "  labels.set_shape([None, self.label_width, None])\n",
    "\n",
    "  return inputs, labels\n",
    "\n",
    "WindowGenerator.split_window = split_window"
   ]
  },
  {
   "cell_type": "code",
   "execution_count": null,
   "metadata": {},
   "outputs": [],
   "source": [
    "def plot(self, model=None, plot_col='T (degC)', max_subplots=3):\n",
    "  inputs, labels = self.example\n",
    "  plt.figure(figsize=(12, 8))\n",
    "  plot_col_index = self.column_indices[plot_col]\n",
    "  max_n = min(max_subplots, len(inputs))\n",
    "  for n in range(max_n):\n",
    "    plt.subplot(3, 1, n+1)\n",
    "    plt.ylabel(f'{plot_col} [normed]')\n",
    "    plt.plot(self.input_indices, inputs[n, :, plot_col_index],\n",
    "             label='Inputs', marker='.', zorder=-10)\n",
    "\n",
    "    if self.label_columns:\n",
    "      label_col_index = self.label_columns_indices.get(plot_col, None)\n",
    "    else:\n",
    "      label_col_index = plot_col_index\n",
    "\n",
    "    if label_col_index is None:\n",
    "      continue\n",
    "\n",
    "    plt.scatter(self.label_indices, labels[n, :, label_col_index],\n",
    "                edgecolors='k', label='Labels', c='#2ca02c', s=64)\n",
    "    if model is not None:\n",
    "      predictions = model(inputs)\n",
    "      plt.scatter(self.label_indices, predictions[n, :, label_col_index],\n",
    "                  marker='X', edgecolors='k', label='Predictions',\n",
    "                  c='#ff7f0e', s=64)\n",
    "\n",
    "    if n == 0:\n",
    "      plt.legend()\n",
    "\n",
    "  plt.xlabel('Time [h]')\n",
    "\n",
    "WindowGenerator.plot = plot"
   ]
  },
  {
   "cell_type": "code",
   "execution_count": null,
   "metadata": {},
   "outputs": [],
   "source": [
    "def make_dataset(self, data):\n",
    "  data = np.array(data, dtype=np.float32)\n",
    "  ds = tf.keras.preprocessing.timeseries_dataset_from_array(\n",
    "      data=data,\n",
    "      targets=None,\n",
    "      sequence_length=self.total_window_size,\n",
    "      sequence_stride=1,\n",
    "      shuffle=True,\n",
    "      batch_size=32,)\n",
    "\n",
    "  ds = ds.map(self.split_window)\n",
    "\n",
    "  return ds\n",
    "\n",
    "WindowGenerator.make_dataset = make_dataset"
   ]
  },
  {
   "cell_type": "code",
   "execution_count": null,
   "metadata": {},
   "outputs": [],
   "source": [
    "@property\n",
    "def train(self):\n",
    "  return self.make_dataset(self.train_df)\n",
    "\n",
    "@property\n",
    "def val(self):\n",
    "  return self.make_dataset(self.val_df)\n",
    "\n",
    "@property\n",
    "def test(self):\n",
    "  return self.make_dataset(self.test_df)\n",
    "\n",
    "@property\n",
    "def example(self):\n",
    "  \"\"\"Get and cache an example batch of `inputs, labels` for plotting.\"\"\"\n",
    "  result = getattr(self, '_example', None)\n",
    "  if result is None:\n",
    "    # No example batch was found, so get one from the `.train` dataset\n",
    "    result = next(iter(self.train))\n",
    "    # And cache it for next time\n",
    "    self._example = result\n",
    "  return result\n",
    "\n",
    "WindowGenerator.train = train\n",
    "WindowGenerator.val = val\n",
    "WindowGenerator.test = test\n",
    "WindowGenerator.example = example"
   ]
  }
 ],
 "metadata": {
  "kernelspec": {
   "display_name": "seai_env",
   "language": "python",
   "name": "seai_env"
  },
  "language_info": {
   "codemirror_mode": {
    "name": "ipython",
    "version": 3
   },
   "file_extension": ".py",
   "mimetype": "text/x-python",
   "name": "python",
   "nbconvert_exporter": "python",
   "pygments_lexer": "ipython3",
   "version": "3.7.9-final"
  }
 },
 "nbformat": 4,
 "nbformat_minor": 4
}